{
 "cells": [
  {
   "cell_type": "code",
   "execution_count": 24,
   "id": "c0ba8aff-b49c-4610-ab90-2f2e9487fad9",
   "metadata": {},
   "outputs": [
    {
     "data": {
      "text/plain": [
       "{'the': 2,\n",
       " 'quick': 1,\n",
       " 'brown': 1,\n",
       " 'fox': 1,\n",
       " 'jumps': 1,\n",
       " 'over': 1,\n",
       " 'lazy': 1,\n",
       " 'dog': 1}"
      ]
     },
     "execution_count": 24,
     "metadata": {},
     "output_type": "execute_result"
    }
   ],
   "source": [
    "# Count Word Frequency in a Sentence\n",
    "\n",
    "sentence = \"the quick brown fox jumps over the lazy dog\"\n",
    "# Output: {'the': 2, 'quick': 1, 'brown': 1, ...}\n",
    "sente = sentence.split()\n",
    "dict ={words:sente.count(words) for words in sente}\n",
    "dict"
   ]
  },
  {
   "cell_type": "code",
   "execution_count": 29,
   "id": "58a85e9a-c980-4947-8186-6edfdbbaa326",
   "metadata": {},
   "outputs": [
    {
     "data": {
      "text/plain": [
       "{'a': 1, 'b': 3, 'c': 4}"
      ]
     },
     "execution_count": 29,
     "metadata": {},
     "output_type": "execute_result"
    }
   ],
   "source": [
    "#Merge Two Dictionaries\n",
    "d1 = {'a': 1, 'b': 2}\n",
    "d2 = {'b': 3, 'c': 4}\n",
    "# Output: {'a': 1, 'b': 3, 'c': 4}\n",
    "d1.update(d2)\n",
    "d1"
   ]
  },
  {
   "cell_type": "code",
   "execution_count": 82,
   "id": "359822c3-a4d9-45b4-b812-e989b2fca5c4",
   "metadata": {},
   "outputs": [
    {
     "data": {
      "text/plain": [
       "[1, 3, 4]"
      ]
     },
     "execution_count": 82,
     "metadata": {},
     "output_type": "execute_result"
    }
   ],
   "source": [
    "#3. Sort Dictionary by Values\n",
    "#Sort a dictionary based on order.\n",
    "sorted(d1.values())"
   ]
  },
  {
   "cell_type": "code",
   "execution_count": 81,
   "id": "6c2868ea-e428-40c1-8365-775a2638587e",
   "metadata": {},
   "outputs": [
    {
     "name": "stdout",
     "output_type": "stream",
     "text": [
      "apple\n"
     ]
    }
   ],
   "source": [
    "# 4. Find Key with the Maximum Value\n",
    "\n",
    "data = {'apple': 10, 'banana': 5, 'orange': 8}\n",
    "# Output: 'apple'\n",
    "\n",
    "data = {'apple': 10, 'banana': 5, 'orange': 8}\n",
    "max_key = max(data, key=data.get)\n",
    "print(max_key)\n"
   ]
  },
  {
   "cell_type": "code",
   "execution_count": 85,
   "id": "cbe09951-4026-4ac9-9b4a-7635e93afe28",
   "metadata": {},
   "outputs": [
    {
     "data": {
      "text/plain": [
       "{'a': 1, 'b': 2, 'c': 3}"
      ]
     },
     "execution_count": 85,
     "metadata": {},
     "output_type": "execute_result"
    }
   ],
   "source": [
    "data = {'a': 1, 'b': 2, 'c': 3}\n",
    "# Output: {1: 'a', 2: 'b', 3: 'c'}\n",
    "rev = {val:key for key , val in data.items()}\n",
    "data"
   ]
  },
  {
   "cell_type": "code",
   "execution_count": 86,
   "id": "db9aab6e-f5d3-4a02-971a-50264b38f3b3",
   "metadata": {},
   "outputs": [
    {
     "name": "stdout",
     "output_type": "stream",
     "text": [
      "{'apple': 3, 'banana': 2, 'orange': 1}\n"
     ]
    }
   ],
   "source": [
    "sentence = \"apple banana apple orange banana apple\"\n",
    "words = sentence.split()\n",
    "freq = {}\n",
    "\n",
    "for word in words:\n",
    "    if word in freq:\n",
    "        freq[word] += 1\n",
    "    else:\n",
    "        freq[word] = 1\n",
    "\n",
    "print(freq)"
   ]
  },
  {
   "cell_type": "code",
   "execution_count": 95,
   "id": "9b071740-3ec7-44d5-8657-2674704a1954",
   "metadata": {},
   "outputs": [
    {
     "name": "stdout",
     "output_type": "stream",
     "text": [
      "{'a': 4, 'b': 10}\n",
      "b\n"
     ]
    }
   ],
   "source": [
    "word ={\"a\":3,\"b\":10}\n",
    "word[\"a\"]+=1\n",
    "print(word)\n",
    "max_key = max(word, key=word.get)\n",
    "print(max_key)\n"
   ]
  },
  {
   "cell_type": "code",
   "execution_count": 96,
   "id": "23bbeef0-22b7-4668-8542-b0b9e9972c92",
   "metadata": {},
   "outputs": [
    {
     "name": "stdout",
     "output_type": "stream",
     "text": [
      "{'a': ['apple', 'apricot'], 'b': ['banana', 'blueberry'], 'c': ['cherry']}\n"
     ]
    }
   ],
   "source": [
    "#Group Words by First Letter\n",
    "# expected output:\n",
    "\"\"\"\n",
    "{\n",
    "  'a': ['apple', 'apricot'],\n",
    "  'b': ['banana', 'blueberry'],\n",
    "  'c': ['cherry']\n",
    "}\n",
    "\"\"\"\n",
    "words = [\"apple\", \"banana\", \"apricot\", \"blueberry\", \"cherry\"]\n",
    "output={}\n",
    "for word in words:\n",
    "    first_letter=word[0]\n",
    "    if first_letter in output:\n",
    "        output[first_letter].append(word)\n",
    "    else:\n",
    "        output[first_letter]=[word]\n",
    "print(output)"
   ]
  },
  {
   "cell_type": "code",
   "execution_count": 104,
   "id": "feb69bcd-b4c9-4e17-96dc-8ba0eae6dffa",
   "metadata": {},
   "outputs": [
    {
     "data": {
      "text/plain": [
       "{'h': 1, 'e': 1, 'l': 3, 'o': 2, 'w': 1, 'r': 1, 'd': 1}"
      ]
     },
     "execution_count": 104,
     "metadata": {},
     "output_type": "execute_result"
    }
   ],
   "source": [
    "# Challenge: Count character frequency in a string (ignore spaces)\n",
    "text = \"hello world\"\n",
    "textt=text.strip().lower()\n",
    "count={}\n",
    "for char in textt:\n",
    "    if char==\" \":\n",
    "        continue\n",
    "    if char in count:\n",
    "        count[char]+=1\n",
    "    else:\n",
    "        count[char]=1\n",
    "count"
   ]
  },
  {
   "cell_type": "markdown",
   "id": "7a8ac8bd-a947-4d0f-b43e-52ef14433d05",
   "metadata": {},
   "source": [
    "#### list comprehension does not allow control flow statements , if elif conditions and operators == or +="
   ]
  },
  {
   "cell_type": "code",
   "execution_count": 19,
   "id": "f91dee3d-eed7-451b-9072-dbf76be90981",
   "metadata": {},
   "outputs": [
    {
     "data": {
      "text/plain": [
       "{1: ['a', 'c'], 2: ['b', 'd'], 3: ['e']}"
      ]
     },
     "execution_count": 19,
     "metadata": {},
     "output_type": "execute_result"
    }
   ],
   "source": [
    "# Invert a Dictionary (Handling Duplicate Values)\n",
    "# Given a dictionary, invert it so that the values become keys and the keys become values.\n",
    "# If multiple keys have the same value, group them in a list.\n",
    "# Input:\n",
    "data = {'a': 1, 'b': 2, 'c': 1, 'd': 2, 'e': 3}\n",
    "# Output:\n",
    "# {1: ['a', 'c'], 2: ['b', 'd'], 3: ['e']}\n",
    "invert = {}\n",
    "data = {'a': 1, 'b': 2, 'c': 1, 'd': 2, 'e': 3}\n",
    "\n",
    "for key , val in data.items():\n",
    "    if val not in invert:\n",
    "        invert[val]=[key]\n",
    "    else:\n",
    "        invert[val].append(key)\n",
    "invert"
   ]
  },
  {
   "cell_type": "code",
   "execution_count": 27,
   "id": "313b208a-91bb-47ae-83f4-6c75d2999a6f",
   "metadata": {},
   "outputs": [
    {
     "name": "stdout",
     "output_type": "stream",
     "text": [
      "['red', 'blue']\n"
     ]
    }
   ],
   "source": [
    "# Most Frequent Value\n",
    "# Given a dictionary of people and their favorite color, find the most frequently liked color.\n",
    "# Input:\n",
    "favorites = {'John': 'red', 'Anna': 'blue', 'Tom': 'red', 'Sara': 'green', 'Nick': 'blue'}\n",
    "# Output:\n",
    "# 'red' or 'blue' (both have 2 votes)\n",
    "color_count={}\n",
    "for color in favorites.values():\n",
    "    if color in color_count:\n",
    "        color_count[color]+=1\n",
    "    else:\n",
    "        color_count[color]=1\n",
    "most_frequent = max(color_count, key=color_count.get)\n",
    "max_count = max(color_count.values())\n",
    "most_frequent_colors = [color for color, count in color_count.items() if count == max_count]\n",
    "print(most_frequent_colors)\n"
   ]
  },
  {
   "cell_type": "code",
   "execution_count": 30,
   "id": "4bf975da-d9f0-44b0-8fcd-d560d7d70e65",
   "metadata": {},
   "outputs": [
    {
     "name": "stdout",
     "output_type": "stream",
     "text": [
      "Alice scored 90\n",
      "Bob scored 85\n",
      "Charlie scored 92\n"
     ]
    }
   ],
   "source": [
    "students = {'Alice': 90, 'Bob': 85, 'Charlie': 92}\n",
    "\n",
    "# Task: Print like => Alice scored 90, Bob scored 85, etc.\n",
    "score ={}\n",
    "for key , vals in students.items():\n",
    "    print(f\"{key} scored {vals}\")\n",
    "    "
   ]
  },
  {
   "cell_type": "code",
   "execution_count": 36,
   "id": "2ecac085-dce3-4eb5-943d-a275d84796db",
   "metadata": {},
   "outputs": [
    {
     "name": "stdout",
     "output_type": "stream",
     "text": [
      "25\n",
      "Not found\n"
     ]
    }
   ],
   "source": [
    "user_ages = {'Sam': 25, 'Lily': 28}\n",
    "\n",
    "# Task:\n",
    "# Print the age of 'Sam'\n",
    "# Print the age of 'Max', but if Max isn't there, print \"Not found\"\n",
    "print(user_ages.get('Sam'))\n",
    "print(user_ages.get('Max', 'Not found')) # key , default"
   ]
  },
  {
   "cell_type": "code",
   "execution_count": 46,
   "id": "0917f608-27be-44b8-a2f5-e3fb80183110",
   "metadata": {},
   "outputs": [
    {
     "data": {
      "text/plain": [
       "{'apple': 3, 'banana': 2, 'cherry': 1}"
      ]
     },
     "execution_count": 46,
     "metadata": {},
     "output_type": "execute_result"
    }
   ],
   "source": [
    "# Challenge 3: Count frequency (real-world style)\n",
    "\n",
    "words = [\"apple\", \"banana\", \"apple\", \"cherry\", \"banana\", \"apple\"]\n",
    "\n",
    "# Task: Use a dictionary to count how many times each word appears.\n",
    "count={}\n",
    "for word in words:\n",
    "    if word in count:\n",
    "        count[word]+=1\n",
    "    else:\n",
    "        count[word]=1\n",
    "count"
   ]
  }
 ],
 "metadata": {
  "kernelspec": {
   "display_name": "Python 3 (ipykernel)",
   "language": "python",
   "name": "python3"
  },
  "language_info": {
   "codemirror_mode": {
    "name": "ipython",
    "version": 3
   },
   "file_extension": ".py",
   "mimetype": "text/x-python",
   "name": "python",
   "nbconvert_exporter": "python",
   "pygments_lexer": "ipython3",
   "version": "3.13.2"
  }
 },
 "nbformat": 4,
 "nbformat_minor": 5
}
