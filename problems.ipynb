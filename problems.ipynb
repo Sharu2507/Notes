{
 "cells": [
  {
   "cell_type": "code",
   "execution_count": 24,
   "id": "c0ba8aff-b49c-4610-ab90-2f2e9487fad9",
   "metadata": {},
   "outputs": [
    {
     "data": {
      "text/plain": [
       "{'the': 2,\n",
       " 'quick': 1,\n",
       " 'brown': 1,\n",
       " 'fox': 1,\n",
       " 'jumps': 1,\n",
       " 'over': 1,\n",
       " 'lazy': 1,\n",
       " 'dog': 1}"
      ]
     },
     "execution_count": 24,
     "metadata": {},
     "output_type": "execute_result"
    }
   ],
   "source": [
    "# Count Word Frequency in a Sentence\n",
    "\n",
    "sentence = \"the quick brown fox jumps over the lazy dog\"\n",
    "# Output: {'the': 2, 'quick': 1, 'brown': 1, ...}\n",
    "sente = sentence.split()\n",
    "dict ={words:sente.count(words) for words in sente}\n",
    "dict"
   ]
  },
  {
   "cell_type": "code",
   "execution_count": 29,
   "id": "58a85e9a-c980-4947-8186-6edfdbbaa326",
   "metadata": {},
   "outputs": [
    {
     "data": {
      "text/plain": [
       "{'a': 1, 'b': 3, 'c': 4}"
      ]
     },
     "execution_count": 29,
     "metadata": {},
     "output_type": "execute_result"
    }
   ],
   "source": [
    "#Merge Two Dictionaries\n",
    "d1 = {'a': 1, 'b': 2}\n",
    "d2 = {'b': 3, 'c': 4}\n",
    "# Output: {'a': 1, 'b': 3, 'c': 4}\n",
    "d1.update(d2)\n",
    "d1"
   ]
  },
  {
   "cell_type": "code",
   "execution_count": 82,
   "id": "359822c3-a4d9-45b4-b812-e989b2fca5c4",
   "metadata": {},
   "outputs": [
    {
     "data": {
      "text/plain": [
       "[1, 3, 4]"
      ]
     },
     "execution_count": 82,
     "metadata": {},
     "output_type": "execute_result"
    }
   ],
   "source": [
    "#3. Sort Dictionary by Values\n",
    "#Sort a dictionary based on order.\n",
    "sorted(d1.values())"
   ]
  },
  {
   "cell_type": "code",
   "execution_count": 81,
   "id": "6c2868ea-e428-40c1-8365-775a2638587e",
   "metadata": {},
   "outputs": [
    {
     "name": "stdout",
     "output_type": "stream",
     "text": [
      "apple\n"
     ]
    }
   ],
   "source": [
    "# 4. Find Key with the Maximum Value\n",
    "\n",
    "data = {'apple': 10, 'banana': 5, 'orange': 8}\n",
    "# Output: 'apple'\n",
    "\n",
    "data = {'apple': 10, 'banana': 5, 'orange': 8}\n",
    "max_key = max(data, key=data.get)\n",
    "print(max_key)\n"
   ]
  },
  {
   "cell_type": "code",
   "execution_count": 85,
   "id": "cbe09951-4026-4ac9-9b4a-7635e93afe28",
   "metadata": {},
   "outputs": [
    {
     "data": {
      "text/plain": [
       "{'a': 1, 'b': 2, 'c': 3}"
      ]
     },
     "execution_count": 85,
     "metadata": {},
     "output_type": "execute_result"
    }
   ],
   "source": [
    "data = {'a': 1, 'b': 2, 'c': 3}\n",
    "# Output: {1: 'a', 2: 'b', 3: 'c'}\n",
    "rev = {val:key for key , val in data.items()}\n",
    "data"
   ]
  },
  {
   "cell_type": "code",
   "execution_count": 86,
   "id": "db9aab6e-f5d3-4a02-971a-50264b38f3b3",
   "metadata": {},
   "outputs": [
    {
     "name": "stdout",
     "output_type": "stream",
     "text": [
      "{'apple': 3, 'banana': 2, 'orange': 1}\n"
     ]
    }
   ],
   "source": [
    "sentence = \"apple banana apple orange banana apple\"\n",
    "words = sentence.split()\n",
    "freq = {}\n",
    "\n",
    "for word in words:\n",
    "    if word in freq:\n",
    "        freq[word] += 1\n",
    "    else:\n",
    "        freq[word] = 1\n",
    "\n",
    "print(freq)"
   ]
  },
  {
   "cell_type": "code",
   "execution_count": 6,
   "id": "9b071740-3ec7-44d5-8657-2674704a1954",
   "metadata": {},
   "outputs": [
    {
     "name": "stdout",
     "output_type": "stream",
     "text": [
      "{'a': 4, 'b': 10}\n",
      "b\n"
     ]
    }
   ],
   "source": [
    "word ={\"a\":3,\"b\":10}\n",
    "word[\"a\"]+=1\n",
    "print(word)\n",
    "max_key = max(word, key=word.get) # this compares the values and the function iterates over\n",
    "print(max_key)\n"
   ]
  },
  {
   "cell_type": "code",
   "execution_count": 96,
   "id": "23bbeef0-22b7-4668-8542-b0b9e9972c92",
   "metadata": {},
   "outputs": [
    {
     "name": "stdout",
     "output_type": "stream",
     "text": [
      "{'a': ['apple', 'apricot'], 'b': ['banana', 'blueberry'], 'c': ['cherry']}\n"
     ]
    }
   ],
   "source": [
    "#Group Words by First Letter\n",
    "# expected output:\n",
    "\"\"\"\n",
    "{\n",
    "  'a': ['apple', 'apricot'],\n",
    "  'b': ['banana', 'blueberry'],\n",
    "  'c': ['cherry']\n",
    "}\n",
    "\"\"\"\n",
    "words = [\"apple\", \"banana\", \"apricot\", \"blueberry\", \"cherry\"]\n",
    "output={}\n",
    "for word in words:\n",
    "    first_letter=word[0]\n",
    "    if first_letter in output:\n",
    "        output[first_letter].append(word)\n",
    "    else:\n",
    "        output[first_letter]=[word]\n",
    "print(output)"
   ]
  },
  {
   "cell_type": "code",
   "execution_count": 104,
   "id": "feb69bcd-b4c9-4e17-96dc-8ba0eae6dffa",
   "metadata": {},
   "outputs": [
    {
     "data": {
      "text/plain": [
       "{'h': 1, 'e': 1, 'l': 3, 'o': 2, 'w': 1, 'r': 1, 'd': 1}"
      ]
     },
     "execution_count": 104,
     "metadata": {},
     "output_type": "execute_result"
    }
   ],
   "source": [
    "# Challenge: Count character frequency in a string (ignore spaces)\n",
    "text = \"hello world\"\n",
    "textt=text.strip().lower()\n",
    "count={}\n",
    "for char in textt:\n",
    "    if char==\" \":\n",
    "        continue\n",
    "    if char in count:\n",
    "        count[char]+=1\n",
    "    else:\n",
    "        count[char]=1\n",
    "count"
   ]
  },
  {
   "cell_type": "markdown",
   "id": "7a8ac8bd-a947-4d0f-b43e-52ef14433d05",
   "metadata": {},
   "source": [
    "#### list comprehension does not allow control flow statements , if elif conditions and operators == or +="
   ]
  },
  {
   "cell_type": "code",
   "execution_count": 19,
   "id": "f91dee3d-eed7-451b-9072-dbf76be90981",
   "metadata": {},
   "outputs": [
    {
     "data": {
      "text/plain": [
       "{1: ['a', 'c'], 2: ['b', 'd'], 3: ['e']}"
      ]
     },
     "execution_count": 19,
     "metadata": {},
     "output_type": "execute_result"
    }
   ],
   "source": [
    "# Invert a Dictionary (Handling Duplicate Values)\n",
    "# Given a dictionary, invert it so that the values become keys and the keys become values.\n",
    "# If multiple keys have the same value, group them in a list.\n",
    "# Input:\n",
    "data = {'a': 1, 'b': 2, 'c': 1, 'd': 2, 'e': 3}\n",
    "# Output:\n",
    "# {1: ['a', 'c'], 2: ['b', 'd'], 3: ['e']}\n",
    "invert = {}\n",
    "data = {'a': 1, 'b': 2, 'c': 1, 'd': 2, 'e': 3}\n",
    "\n",
    "for key , val in data.items():\n",
    "    if val not in invert:\n",
    "        invert[val]=[key]\n",
    "    else:\n",
    "        invert[val].append(key)\n",
    "invert"
   ]
  },
  {
   "cell_type": "code",
   "execution_count": 27,
   "id": "313b208a-91bb-47ae-83f4-6c75d2999a6f",
   "metadata": {},
   "outputs": [
    {
     "name": "stdout",
     "output_type": "stream",
     "text": [
      "['red', 'blue']\n"
     ]
    }
   ],
   "source": [
    "# Most Frequent Value\n",
    "# Given a dictionary of people and their favorite color, find the most frequently liked color.\n",
    "# Input:\n",
    "favorites = {'John': 'red', 'Anna': 'blue', 'Tom': 'red', 'Sara': 'green', 'Nick': 'blue'}\n",
    "# Output:\n",
    "# 'red' or 'blue' (both have 2 votes)\n",
    "color_count={}\n",
    "for color in favorites.values():\n",
    "    if color in color_count:\n",
    "        color_count[color]+=1\n",
    "    else:\n",
    "        color_count[color]=1\n",
    "most_frequent = max(color_count, key=color_count.get)\n",
    "max_count = max(color_count.values())\n",
    "most_frequent_colors = [color for color, count in color_count.items() if count == max_count]\n",
    "print(most_frequent_colors)\n"
   ]
  },
  {
   "cell_type": "code",
   "execution_count": 30,
   "id": "4bf975da-d9f0-44b0-8fcd-d560d7d70e65",
   "metadata": {},
   "outputs": [
    {
     "name": "stdout",
     "output_type": "stream",
     "text": [
      "Alice scored 90\n",
      "Bob scored 85\n",
      "Charlie scored 92\n"
     ]
    }
   ],
   "source": [
    "students = {'Alice': 90, 'Bob': 85, 'Charlie': 92}\n",
    "\n",
    "# Task: Print like => Alice scored 90, Bob scored 85, etc.\n",
    "score ={}\n",
    "for key , vals in students.items():\n",
    "    print(f\"{key} scored {vals}\")\n",
    "    "
   ]
  },
  {
   "cell_type": "code",
   "execution_count": 36,
   "id": "2ecac085-dce3-4eb5-943d-a275d84796db",
   "metadata": {},
   "outputs": [
    {
     "name": "stdout",
     "output_type": "stream",
     "text": [
      "25\n",
      "Not found\n"
     ]
    }
   ],
   "source": [
    "user_ages = {'Sam': 25, 'Lily': 28}\n",
    "\n",
    "# Task:\n",
    "# Print the age of 'Sam'\n",
    "# Print the age of 'Max', but if Max isn't there, print \"Not found\"\n",
    "print(user_ages.get('Sam'))\n",
    "print(user_ages.get('Max', 'Not found')) # key , default"
   ]
  },
  {
   "cell_type": "code",
   "execution_count": 46,
   "id": "0917f608-27be-44b8-a2f5-e3fb80183110",
   "metadata": {},
   "outputs": [
    {
     "data": {
      "text/plain": [
       "{'apple': 3, 'banana': 2, 'cherry': 1}"
      ]
     },
     "execution_count": 46,
     "metadata": {},
     "output_type": "execute_result"
    }
   ],
   "source": [
    "# Challenge 3: Count frequency (real-world style)\n",
    "\n",
    "words = [\"apple\", \"banana\", \"apple\", \"cherry\", \"banana\", \"apple\"]\n",
    "\n",
    "# Task: Use a dictionary to count how many times each word appears.\n",
    "count={}\n",
    "for word in words:\n",
    "    if word in count:\n",
    "        count[word]+=1\n",
    "    else:\n",
    "        count[word]=1\n",
    "count"
   ]
  },
  {
   "cell_type": "code",
   "execution_count": 2,
   "id": "d8fe7cf5-33fc-4732-8379-1868bea4405b",
   "metadata": {},
   "outputs": [
    {
     "data": {
      "text/plain": [
       "[(1, 3), (1, 4), (2, 3), (2, 4)]"
      ]
     },
     "execution_count": 2,
     "metadata": {},
     "output_type": "execute_result"
    }
   ],
   "source": [
    "#Cartesian Product\n",
    "#Generate all pairs (x, y) where x is from [1, 2] and y is from [3, 4]:\n",
    "x=[1,2]\n",
    "y=[3,4]\n",
    "pairs = [ (i,j) for i in x for j in y] \n",
    "pairs"
   ]
  },
  {
   "cell_type": "code",
   "execution_count": 4,
   "id": "207891cb-3b74-4b8d-953b-7f221cd4c193",
   "metadata": {},
   "outputs": [
    {
     "name": "stdout",
     "output_type": "stream",
     "text": [
      "[1, 2, 3, 4, 5, 6]\n"
     ]
    }
   ],
   "source": [
    "matrix = [[1, 2, 3], [4, 5, 6]]\n",
    "flat = [nums for num in matrix for nums in num ]\n",
    "print(flat)"
   ]
  },
  {
   "cell_type": "code",
   "execution_count": 5,
   "id": "b768aa46-45de-4761-a0f4-4b336c63e150",
   "metadata": {},
   "outputs": [
    {
     "data": {
      "text/plain": [
       "[4, 16, 36]"
      ]
     },
     "execution_count": 5,
     "metadata": {},
     "output_type": "execute_result"
    }
   ],
   "source": [
    "# Given a list of numbers, return a new list of squares of only even numbers.\n",
    "nums = [1, 2, 3, 4, 5, 6]\n",
    "even = [x**2 for x in nums if x%2==0]\n",
    "even"
   ]
  },
  {
   "cell_type": "code",
   "execution_count": 74,
   "id": "2663014c-a5c4-418c-9be5-1342453c90ec",
   "metadata": {},
   "outputs": [
    {
     "name": "stdout",
     "output_type": "stream",
     "text": [
      "{'o', 'i', 'e', 'u', 'a'}\n"
     ]
    }
   ],
   "source": [
    "# Given a sentence, return a set of unique vowels in it (lowercase only).\n",
    "sentence = \"The quick brown fox jumps over the lazy dog\"\n",
    "sentence_lower = sentence.lower()\n",
    "vowels = { char for word in sentence_lower  for char in word if char in [\"a\",\"e\",\"i\",\"o\",\"u\"]}\n",
    "print(vowels)"
   ]
  },
  {
   "cell_type": "code",
   "execution_count": 7,
   "id": "3d40d95e-60cc-41be-b72b-ebf654f50c9b",
   "metadata": {},
   "outputs": [
    {
     "data": {
      "text/plain": [
       "{'apple': 5, 'banana': 6, 'kiwi': 4}"
      ]
     },
     "execution_count": 7,
     "metadata": {},
     "output_type": "execute_result"
    }
   ],
   "source": [
    "# # Create a dictionary from a list where key = item, value = length of item\n",
    "words = ['apple', 'banana', 'kiwi']\n",
    "# Output: {'apple': 5, 'banana': 6, 'kiwi': 4}\n",
    "output = { word : len(word) for word in words }\n",
    "output"
   ]
  },
  {
   "cell_type": "code",
   "execution_count": 8,
   "id": "821df88d-1990-49eb-b713-d231b5cc5fd7",
   "metadata": {},
   "outputs": [
    {
     "data": {
      "text/plain": [
       "'banana'"
      ]
     },
     "execution_count": 8,
     "metadata": {},
     "output_type": "execute_result"
    }
   ],
   "source": [
    "# Find the key with the highest value\n",
    "data = {'apple': 10, 'banana': 15, 'orange': 8}\n",
    "maximum =max(data , key = data.get)\n",
    "maximum\n"
   ]
  },
  {
   "cell_type": "code",
   "execution_count": 15,
   "id": "49fd3606-10b2-4111-a8c7-c075d877f3c2",
   "metadata": {},
   "outputs": [
    {
     "name": "stdin",
     "output_type": "stream",
     "text": [
      "Enter a string: abc\n"
     ]
    },
    {
     "data": {
      "text/plain": [
       "[97, 98, 99]"
      ]
     },
     "execution_count": 15,
     "metadata": {},
     "output_type": "execute_result"
    }
   ],
   "source": [
    "# Write a function that takes a string and returns a list of ASCII codes of each char using list comprehension\n",
    "# Input: \"abc\" → Output: [97, 98, 99]\n",
    "Input = input(\"Enter a string:\")\n",
    "Input_edited = Input.lower().strip()\n",
    "asci = [ord(i) for i in Input_edited]\n",
    "asci"
   ]
  },
  {
   "cell_type": "code",
   "execution_count": 78,
   "id": "5a422685-832a-4900-9336-5e0e421cc30b",
   "metadata": {},
   "outputs": [
    {
     "name": "stdout",
     "output_type": "stream",
     "text": [
      "Charlie\n"
     ]
    }
   ],
   "source": [
    "# Given a list of tuples (name, score), return the name with the second highest score\n",
    "scores = [('Alice', 82), ('Bob', 91), ('Charlie', 85), ('David', 91)]\n",
    "# Expected Output: 'Charlie'\n",
    "unique_scores = sorted({score for name, score in scores}, reverse=True)\n",
    "second_highest = unique_scores[1]\n",
    "result = [name for name, score in scores if score == second_highest][0]\n",
    "print(result)\n"
   ]
  },
  {
   "cell_type": "code",
   "execution_count": 75,
   "id": "8a43121d-f991-4286-ba18-e0fd45368b0a",
   "metadata": {},
   "outputs": [
    {
     "name": "stdout",
     "output_type": "stream",
     "text": [
      "Application\n",
      "Disk\n",
      "Scheduled\n",
      "Whegdegwfgwekf\n",
      "Qdkjegfiuqegf\n",
      "Banana\n",
      "Apple\n",
      "Banana\n",
      "Apple\n",
      "Banana\n",
      "Apple\n",
      "Banana\n",
      "Apple\n",
      "Banana\n"
     ]
    }
   ],
   "source": [
    "# Read a file 'sample.txt' and print all words that start with a capital letter\n",
    "# Hint: Use .split() and string methods\n",
    "with open(\"data.txt\", \"r\") as f:\n",
    "    for line in f:\n",
    "        words = line.split()\n",
    "        for word in words:\n",
    "            if word.istitle():  # checks if the word starts with a capital\n",
    "                print(word)\n"
   ]
  },
  {
   "cell_type": "code",
   "execution_count": 43,
   "id": "d35d566d-017f-42be-a63b-457d14bd99b5",
   "metadata": {},
   "outputs": [
    {
     "data": {
      "text/plain": [
       "{'a': 1, 'b': 2, 'c': 3}"
      ]
     },
     "execution_count": 43,
     "metadata": {},
     "output_type": "execute_result"
    }
   ],
   "source": [
    "# Convert a list of dictionaries to a single dictionary.\n",
    "data = [{'a': 1}, {'b': 2}, {'c': 3}]\n",
    "# Expected Output: {'a': 1, 'b': 2, 'c': 3}\n",
    "merge = { x:y for i in data for x,y in i.items()}\n",
    "merge"
   ]
  },
  {
   "cell_type": "code",
   "execution_count": 66,
   "id": "e4a51bd9-8607-4956-910b-c32280fa37a7",
   "metadata": {},
   "outputs": [
    {
     "data": {
      "text/plain": [
       "{1, 2, 5, 6}"
      ]
     },
     "execution_count": 66,
     "metadata": {},
     "output_type": "execute_result"
    }
   ],
   "source": [
    "# From two lists, find all elements that are unique to each (symmetric difference)\n",
    "a = [1, 2, 3, 4]\n",
    "b = [3, 4, 5, 6]\n",
    "# Expected Output: {1, 2, 5, 6}\n",
    "common= set(a)&set(b)\n",
    "unique = (set(a)|set(b))-(common)\n",
    "unique"
   ]
  },
  {
   "cell_type": "code",
   "execution_count": 67,
   "id": "ae2b7ee4-5ee0-46c9-a9f3-a9ba91f5793b",
   "metadata": {},
   "outputs": [
    {
     "data": {
      "text/plain": [
       "{'b': 1, 'a': 1, 'l': 2, 'o': 2, 'n': 1}"
      ]
     },
     "execution_count": 67,
     "metadata": {},
     "output_type": "execute_result"
    }
   ],
   "source": [
    "# Write a one-liner dictionary comprehension to count the frequency of each character in a string\n",
    "text = \"balloon\"\n",
    "# Output: {'b':1, 'a':1, 'l':2, 'o':2, 'n':1}\n",
    "count ={}\n",
    "for char in text:\n",
    "    if char in count:\n",
    "        count[char]+=1\n",
    "    else:\n",
    "        count[char]=1\n",
    "count"
   ]
  },
  {
   "cell_type": "code",
   "execution_count": 15,
   "id": "f27dc528-e9e3-48eb-8170-33d311aad0df",
   "metadata": {},
   "outputs": [
    {
     "name": "stdin",
     "output_type": "stream",
     "text": [
      "ENTER THE NUMBER OF SCORES YOU WANT TO ENTE: 2\n",
      "Enter score 1: 1\n",
      "Enter score 2: 2\n",
      " 3\n",
      " 4\n"
     ]
    },
    {
     "data": {
      "text/plain": [
       "[4]"
      ]
     },
     "execution_count": 15,
     "metadata": {},
     "output_type": "execute_result"
    }
   ],
   "source": [
    "n= int(input(\"ENTER THE NUMBER OF SCORES YOU WANT TO ENTE:\"))\n",
    "list_num = [int(input(f\"Enter score {i+1}:\")) for i in range (n)]\n",
    "list_num.sort(reverse= True)\n",
    "list_num[1]"
   ]
  },
  {
   "cell_type": "code",
   "execution_count": 21,
   "id": "acfb306d-6224-4d4d-87c8-06e1b8ee347d",
   "metadata": {},
   "outputs": [
    {
     "name": "stdin",
     "output_type": "stream",
     "text": [
      " 3\n",
      " 2\n",
      " 4\n",
      " 1\n"
     ]
    },
    {
     "name": "stdout",
     "output_type": "stream",
     "text": [
      "2\n"
     ]
    }
   ],
   "source": [
    "## Given the participants' score sheet for your University Sports Day, you are required to find the runner-up score. You are given n  scores. Store them in a list and find the score of the runner-up. nput Format\n",
    "#The first line contains n . The second line contains an array a[i]   of  n integers each separated by a space. \n",
    "# Constraints 2<=n<=10  -100<=a[i]<=100 \n",
    "\n",
    "if __name__ == '__main__':\n",
    "    n = int(input())\n",
    "    arr = list(map(int, input().split()))\n",
    "    unique = list(set(arr))\n",
    "    unique.sort(reverse=True)\n",
    "    print(unique[1])"
   ]
  },
  {
   "cell_type": "code",
   "execution_count": 40,
   "id": "1e6bbc67-0e83-47fe-9ac4-1d32c4584ed7",
   "metadata": {},
   "outputs": [
    {
     "name": "stdin",
     "output_type": "stream",
     "text": [
      " 3\n",
      " sam\n",
      " 2\n",
      " milan\n",
      " 3\n",
      " dan\n",
      " 4\n"
     ]
    },
    {
     "name": "stdout",
     "output_type": "stream",
     "text": [
      "milan\n"
     ]
    }
   ],
   "source": [
    "\"\"\"\n",
    "Given the names and grades for each student in a class of  students, store them in a nested list and print the name(s) of any student(s) having the \n",
    "second lowest grade.\n",
    "Note: If there are multiple students with the second lowest grade, order their names alphabetically and print each name on a new line.\n",
    "Example\n",
    "The ordered list of scores is , so the second lowest score is . There are two students with that score: . \n",
    "Ordered alphabetically, the names are printed as:\n",
    "alpha\n",
    "beta\n",
    "\"\"\"\"\n",
    "if __name__ == '__main__':\n",
    "    records=[]\n",
    "    for _ in range(int(input())):\n",
    "        name = input()\n",
    "        score = float(input())\n",
    "        records.append([name, score])\n",
    "    sorte = sorted(list(set([s[1] for s in records])))\n",
    "    second_lowest=sorte[1]\n",
    "    students = [s[0] for s in records if s[1]==second_lowest]\n",
    "    students.sort()\n",
    "    for name in students:\n",
    "        print(name)\n",
    "        "
   ]
  },
  {
   "cell_type": "code",
   "execution_count": 1,
   "id": "12aacf48-be37-42fd-8c3b-04340d4e656c",
   "metadata": {},
   "outputs": [
    {
     "data": {
      "text/plain": [
       "['0 is even ',\n",
       " '1 is odd',\n",
       " '2 is even ',\n",
       " '3 is odd',\n",
       " '4 is even ',\n",
       " '5 is odd',\n",
       " '6 is even ',\n",
       " '7 is odd',\n",
       " '8 is even ',\n",
       " '9 is odd']"
      ]
     },
     "execution_count": 1,
     "metadata": {},
     "output_type": "execute_result"
    }
   ],
   "source": [
    "# # Write a program that takes a number as input and prints whether it is even or odd.\n",
    "numbers = [f\"{x} is even \" if x%2==0 else f\"{x} is odd\" for x in range (0,10)]\n",
    "numbers"
   ]
  },
  {
   "cell_type": "code",
   "execution_count": 3,
   "id": "9ac8412d-d5d5-4453-ae9d-42251c081e58",
   "metadata": {},
   "outputs": [
    {
     "name": "stdin",
     "output_type": "stream",
     "text": [
      "Enter a string separated by space: Python is Fun\n"
     ]
    },
    {
     "data": {
      "text/plain": [
       "'funispython'"
      ]
     },
     "execution_count": 3,
     "metadata": {},
     "output_type": "execute_result"
    }
   ],
   "source": [
    "# Reverse the string 'PythonIsFun' without using [::-1].\n",
    "string = input(\"Enter a string separated by space:\")\n",
    "str_low = string.lower().split()\n",
    "rev=\"\".join(str_low[::-1])\n",
    "rev"
   ]
  },
  {
   "cell_type": "code",
   "execution_count": 29,
   "id": "2cf70c68-cd43-468d-b4d9-4d9e6bbc043d",
   "metadata": {},
   "outputs": [
    {
     "name": "stdout",
     "output_type": "stream",
     "text": [
      "nuFsInohtyP\n"
     ]
    }
   ],
   "source": [
    "# Reverse the string 'PythonIsFun' without using [::-1].\n",
    "string = \"PythonIsFun\"\n",
    "rev = \"\"\n",
    "for char in string:\n",
    "    rev = char + rev\n",
    "print(rev)"
   ]
  },
  {
   "cell_type": "code",
   "execution_count": 11,
   "id": "2c7ebdcb-d5bf-49f0-948e-40efee468203",
   "metadata": {},
   "outputs": [
    {
     "data": {
      "text/plain": [
       "[9, 7, 5, 3, 1]"
      ]
     },
     "execution_count": 11,
     "metadata": {},
     "output_type": "execute_result"
    }
   ],
   "source": [
    "# Given a list: [5, 3, 9, 1, 7, 3], remove duplicates and sort it in descending order.\n",
    "list1= [5, 3, 9, 1, 7, 3]\n",
    "list2=list(set(list1))\n",
    "list2.sort(reverse=True)\n",
    "list2"
   ]
  },
  {
   "cell_type": "code",
   "execution_count": 13,
   "id": "a3278fb9-216f-4ab8-8840-489a416b5c59",
   "metadata": {},
   "outputs": [
    {
     "name": "stdin",
     "output_type": "stream",
     "text": [
      "Enter a string separated by space: programming\n"
     ]
    },
    {
     "data": {
      "text/plain": [
       "{'p': 1, 'r': 2, 'o': 1, 'g': 2, 'a': 1, 'm': 2, 'i': 1, 'n': 1}"
      ]
     },
     "execution_count": 13,
     "metadata": {},
     "output_type": "execute_result"
    }
   ],
   "source": [
    "# Count the frequency of each character in the string: \"programming\".\n",
    "# Store the result in a dictionary.\n",
    "string = input(\"Enter a string separated by space:\")\n",
    "str_low = string.lower()\n",
    "dicti={}\n",
    "for x in str_low:\n",
    "    if x in dicti:\n",
    "        dicti[x]+=1\n",
    "    else:\n",
    "        dicti[x]=1\n",
    "dicti"
   ]
  },
  {
   "cell_type": "code",
   "execution_count": 14,
   "id": "4d9f2791-7195-458b-bc4d-d734afa5816f",
   "metadata": {},
   "outputs": [
    {
     "data": {
      "text/plain": [
       "[15, 30, 45]"
      ]
     },
     "execution_count": 14,
     "metadata": {},
     "output_type": "execute_result"
    }
   ],
   "source": [
    "# Print all numbers from 1 to 50 that are divisible by both 3 and 5.\n",
    "numbers=50\n",
    "num = [x for x in range (1,51) if x%3==0 and x%5==0]\n",
    "num"
   ]
  },
  {
   "cell_type": "code",
   "execution_count": 19,
   "id": "d253021a-88fe-406c-b232-deef6b9853a8",
   "metadata": {},
   "outputs": [
    {
     "name": "stdout",
     "output_type": "stream",
     "text": [
      "Welcome to string\n",
      "\n",
      "Hiii\n",
      "\n",
      " adding a new line \n",
      "\n",
      "good\n",
      "\n",
      "48\n"
     ]
    }
   ],
   "source": [
    "# Write a Python program that reads a file named \"sample.txt\"\n",
    "# and prints the number of words in it.\n",
    "with open(\"prac.txt\",\"r\") as f:\n",
    "    count=0\n",
    "    for lines in f.readlines():\n",
    "        print(lines)\n",
    "        for word in lines:\n",
    "            count+=1\n",
    "    print(count)\n",
    "        \n"
   ]
  },
  {
   "cell_type": "code",
   "execution_count": 30,
   "id": "e21372f5-1267-4aec-b784-173be7a3f0e1",
   "metadata": {},
   "outputs": [
    {
     "name": "stdout",
     "output_type": "stream",
     "text": [
      "Total words: 9\n"
     ]
    }
   ],
   "source": [
    "with open(\"prac.txt\", \"r\") as f:\n",
    "    count = 0\n",
    "    for line in f:\n",
    "        words = line.split()\n",
    "        count += len(words)\n",
    "    print(\"Total words:\", count)"
   ]
  },
  {
   "cell_type": "code",
   "execution_count": 33,
   "id": "5bc5f70d-df3f-49b8-92d8-f8cab50d8b35",
   "metadata": {},
   "outputs": [
    {
     "data": {
      "text/plain": [
       "4"
      ]
     },
     "execution_count": 33,
     "metadata": {},
     "output_type": "execute_result"
    }
   ],
   "source": [
    "# Write a function that returns the second largest number in a list.\n",
    "# Example: second_largest([4, 1, 7, 3, 7]) → 4\n",
    "def large(a):\n",
    "    large=0\n",
    "    b=list(set(a))\n",
    "    b.sort(reverse=True)\n",
    "    return b[1]\n",
    "find=[4, 1, 7, 3, 7]\n",
    "large_num = large(find)\n",
    "large_num"
   ]
  },
  {
   "cell_type": "code",
   "execution_count": 25,
   "id": "914bec4f-23c7-4c7c-b68f-11a36ba513d7",
   "metadata": {},
   "outputs": [
    {
     "name": "stdin",
     "output_type": "stream",
     "text": [
      "Enter a string: successes\n"
     ]
    },
    {
     "name": "stdout",
     "output_type": "stream",
     "text": [
      "c\n",
      "e\n",
      "None\n"
     ]
    }
   ],
   "source": [
    "# Write a function to find the second most frequent character in a string.\n",
    "# Input: \"successes\"\n",
    "# Output: 'u'  # 's' is most frequent, then 'u'\n",
    "def freq(a):\n",
    "    d={}\n",
    "    b= a.lower()\n",
    "    for i in b:\n",
    "        if i in d:\n",
    "            d[i]+=1\n",
    "        else:\n",
    "            d[i]=1\n",
    "    unique_values = sorted(set(d.values()), reverse=True)  \n",
    "    second_max = unique_values[1]  # 20\n",
    "    for key in d:\n",
    "        if d[key] == second_max:\n",
    "            print(key)  # Output: 'c\n",
    "    \n",
    "inputt = input(\"Enter a string:\")\n",
    "dictionary = freq(inputt)\n",
    "print(dictionary)\n",
    "        \n",
    "        \n",
    "        "
   ]
  },
  {
   "cell_type": "code",
   "execution_count": 21,
   "id": "9a781bb5-1ac8-4114-849c-cbc36ca1ed56",
   "metadata": {},
   "outputs": [],
   "source": [
    "# need to learn chaining and map , lambda functions"
   ]
  }
 ],
 "metadata": {
  "kernelspec": {
   "display_name": "Python 3 (ipykernel)",
   "language": "python",
   "name": "python3"
  },
  "language_info": {
   "codemirror_mode": {
    "name": "ipython",
    "version": 3
   },
   "file_extension": ".py",
   "mimetype": "text/x-python",
   "name": "python",
   "nbconvert_exporter": "python",
   "pygments_lexer": "ipython3",
   "version": "3.13.2"
  }
 },
 "nbformat": 4,
 "nbformat_minor": 5
}
