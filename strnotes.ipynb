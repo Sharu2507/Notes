{
 "cells": [
  {
   "cell_type": "markdown",
   "id": "6f3ae321-6714-4fd6-8006-7de60964d6d2",
   "metadata": {},
   "source": [
    "#### STRING HANDLING"
   ]
  },
  {
   "cell_type": "code",
   "execution_count": 13,
   "id": "828e26a2-14f6-4243-9eb2-d7345bab42d7",
   "metadata": {},
   "outputs": [],
   "source": [
    "s1 = 'hello' # string enclosed in single quotes\n",
    "s2 = \"world\" # string enclosed in double quotes\n",
    "s3 = '''Python rocks!''' # multiline string"
   ]
  },
  {
   "cell_type": "markdown",
   "id": "4293be0a-dd02-41d3-bc29-859dea152ba4",
   "metadata": {},
   "source": [
    "#### STRING SLICING AND INDEXING"
   ]
  },
  {
   "cell_type": "code",
   "execution_count": 19,
   "id": "fa17e138-b0f5-453d-bd5e-667792217da2",
   "metadata": {},
   "outputs": [
    {
     "name": "stdout",
     "output_type": "stream",
     "text": [
      "P\n",
      "n\n",
      "yth\n",
      "ytho\n",
      "noht\n"
     ]
    }
   ],
   "source": [
    "s = \"Python\"\n",
    "print(s[0])     # P (1st character)\n",
    "print(s[-1])    # n (last character)\n",
    "print(s[1:4])   # yth (from index 1 to 3)\n",
    "print(s[1:5:1]) # start : stop : step\n",
    "print(s[-1:-5:-1]) # reverse"
   ]
  },
  {
   "cell_type": "markdown",
   "id": "3053f8ad-b440-4b1c-b64d-ac4d78cf077f",
   "metadata": {},
   "source": [
    "#### STRING OPERATIONS"
   ]
  },
  {
   "cell_type": "code",
   "execution_count": 20,
   "id": "d79e5054-8368-40a8-b623-2cfd1fc1401e",
   "metadata": {},
   "outputs": [
    {
     "name": "stdout",
     "output_type": "stream",
     "text": [
      "Hello World\n",
      "HelloHelloHello\n",
      "True\n",
      "5\n"
     ]
    }
   ],
   "source": [
    "a = \"Hello\"\n",
    "b = \"World\"\n",
    "\n",
    "print(a + \" \" + b)  # Concatenation → Hello World\n",
    "print(a * 3)        # Repetition → HelloHelloHello\n",
    "print(\"e\" in a)     # Membership → True\n",
    "print(len(a))       # Length → 5"
   ]
  },
  {
   "cell_type": "markdown",
   "id": "974ec358-cbda-4027-87c5-727d4929a866",
   "metadata": {},
   "source": [
    "#### STRING METHODS"
   ]
  },
  {
   "cell_type": "code",
   "execution_count": 22,
   "id": "8c25b8ae-0c01-4fef-bf21-536c0b5607e1",
   "metadata": {},
   "outputs": [
    {
     "data": {
      "text/plain": [
       "'python'"
      ]
     },
     "execution_count": 22,
     "metadata": {},
     "output_type": "execute_result"
    }
   ],
   "source": [
    "# 1. lower\n",
    "a = \"PYTHON\"\n",
    "a.lower() # lowercase converstion"
   ]
  },
  {
   "cell_type": "code",
   "execution_count": 24,
   "id": "2e8314f0-50c7-48cb-a5bc-89e7c6462bc4",
   "metadata": {},
   "outputs": [
    {
     "data": {
      "text/plain": [
       "'ABC'"
      ]
     },
     "execution_count": 24,
     "metadata": {},
     "output_type": "execute_result"
    }
   ],
   "source": [
    "# 2. upper()---Convert to uppercase\t\n",
    "\"abc\".upper()"
   ]
  },
  {
   "cell_type": "code",
   "execution_count": 25,
   "id": "0e18e5bb-9236-40e6-87ee-4edd023d16e6",
   "metadata": {},
   "outputs": [
    {
     "data": {
      "text/plain": [
       "'Hello'"
      ]
     },
     "execution_count": 25,
     "metadata": {},
     "output_type": "execute_result"
    }
   ],
   "source": [
    "# 3. capitalize()---First letter capital\n",
    "\"hello\".capitalize()"
   ]
  },
  {
   "cell_type": "code",
   "execution_count": 26,
   "id": "904dfe9e-ae19-4abe-ab04-d5111e44e367",
   "metadata": {},
   "outputs": [
    {
     "data": {
      "text/plain": [
       "'Hello World'"
      ]
     },
     "execution_count": 26,
     "metadata": {},
     "output_type": "execute_result"
    }
   ],
   "source": [
    "# 4. title()---Capitalizes each word\n",
    "\"hello world\".title()"
   ]
  },
  {
   "cell_type": "code",
   "execution_count": 27,
   "id": "6b48ebf9-1ed0-486f-b3e2-e03975d7badf",
   "metadata": {},
   "outputs": [
    {
     "data": {
      "text/plain": [
       "'hello'"
      ]
     },
     "execution_count": 27,
     "metadata": {},
     "output_type": "execute_result"
    }
   ],
   "source": [
    "# 5. strip()---Removes spaces\n",
    "\" hello \".strip() "
   ]
  },
  {
   "cell_type": "code",
   "execution_count": 28,
   "id": "61367922-82ed-4f5c-b607-cc0672433a02",
   "metadata": {},
   "outputs": [
    {
     "data": {
      "text/plain": [
       "'bi'"
      ]
     },
     "execution_count": 28,
     "metadata": {},
     "output_type": "execute_result"
    }
   ],
   "source": [
    "# 6. replace(a, b)---Replace a with b\n",
    "\"hi\".replace(\"h\",\"b\")"
   ]
  },
  {
   "cell_type": "code",
   "execution_count": 29,
   "id": "a93614d8-3f5b-466a-a71d-f2db83d391fd",
   "metadata": {},
   "outputs": [
    {
     "data": {
      "text/plain": [
       "['a', 'b', 'c']"
      ]
     },
     "execution_count": 29,
     "metadata": {},
     "output_type": "execute_result"
    }
   ],
   "source": [
    "# 7. split() ---Splits by space (or given char)\n",
    "\"a,b,c\".split(',')"
   ]
  },
  {
   "cell_type": "code",
   "execution_count": 30,
   "id": "fd4b6176-e23f-44a4-be46-2d376477bee7",
   "metadata": {},
   "outputs": [
    {
     "data": {
      "text/plain": [
       "'a-b'"
      ]
     },
     "execution_count": 30,
     "metadata": {},
     "output_type": "execute_result"
    }
   ],
   "source": [
    "# 8 . join()---Joins list with a separator\t\n",
    "'-'.join(['a','b'])"
   ]
  },
  {
   "cell_type": "code",
   "execution_count": 31,
   "id": "058daf8d-08b2-432d-88ec-a092e5371217",
   "metadata": {},
   "outputs": [
    {
     "data": {
      "text/plain": [
       "1"
      ]
     },
     "execution_count": 31,
     "metadata": {},
     "output_type": "execute_result"
    }
   ],
   "source": [
    "# 9. find(sub)---Finds index of substring\t\n",
    "\"hello\".find(\"e\")"
   ]
  },
  {
   "cell_type": "code",
   "execution_count": 32,
   "id": "c654b58a-8ea6-4b4f-9dfb-fa6e6933b217",
   "metadata": {},
   "outputs": [
    {
     "data": {
      "text/plain": [
       "3"
      ]
     },
     "execution_count": 32,
     "metadata": {},
     "output_type": "execute_result"
    }
   ],
   "source": [
    "# 10. count(sub)---Counts how many times sub appears\t\n",
    "\"banana\".count(\"a\")"
   ]
  },
  {
   "cell_type": "code",
   "execution_count": 33,
   "id": "1ce2e17e-8b7f-4303-b4fc-93535fcf716a",
   "metadata": {},
   "outputs": [
    {
     "data": {
      "text/plain": [
       "True"
      ]
     },
     "execution_count": 33,
     "metadata": {},
     "output_type": "execute_result"
    }
   ],
   "source": [
    "# 11. startswith(sub)---True if starts with sub\t\n",
    "\"hi\".startswith(\"h\")"
   ]
  },
  {
   "cell_type": "code",
   "execution_count": 34,
   "id": "de1b4ddc-39cd-4ec6-8b53-8f696547192d",
   "metadata": {},
   "outputs": [
    {
     "data": {
      "text/plain": [
       "True"
      ]
     },
     "execution_count": 34,
     "metadata": {},
     "output_type": "execute_result"
    }
   ],
   "source": [
    "# 12. endswith(sub)---True if ends with sub\t\n",
    "\"hi\".endswith(\"i\")"
   ]
  },
  {
   "cell_type": "code",
   "execution_count": 35,
   "id": "595422cd-af6e-4a53-9b33-a09bdb35ef78",
   "metadata": {},
   "outputs": [
    {
     "data": {
      "text/plain": [
       "True"
      ]
     },
     "execution_count": 35,
     "metadata": {},
     "output_type": "execute_result"
    }
   ],
   "source": [
    "# 13. isdigit()---True if all characters are digits\t\n",
    "\"123\".isdigit()"
   ]
  },
  {
   "cell_type": "code",
   "execution_count": 36,
   "id": "fe1d849c-e978-409f-b2e1-b49c77c01378",
   "metadata": {},
   "outputs": [
    {
     "data": {
      "text/plain": [
       "True"
      ]
     },
     "execution_count": 36,
     "metadata": {},
     "output_type": "execute_result"
    }
   ],
   "source": [
    "# 14. isalpha()----True if all characters are letters\t\n",
    "\"abc\".isalpha() "
   ]
  },
  {
   "cell_type": "code",
   "execution_count": 37,
   "id": "d6864e6f-dda2-4756-b471-3114460d2fe9",
   "metadata": {},
   "outputs": [
    {
     "name": "stdout",
     "output_type": "stream",
     "text": [
      "My name is Alice and I am 25 years old.\n"
     ]
    }
   ],
   "source": [
    "# 15 . f string\n",
    "name = \"Alice\"\n",
    "age = 25\n",
    "print(f\"My name is {name} and I am {age} years old.\")"
   ]
  },
  {
   "cell_type": "code",
   "execution_count": 38,
   "id": "a3a68a8a-c931-4a38-b74a-3bbec06b7c53",
   "metadata": {},
   "outputs": [
    {
     "name": "stdout",
     "output_type": "stream",
     "text": [
      "My name is Alice and I am 25 years old.\n"
     ]
    }
   ],
   "source": [
    "# 16. Format \n",
    "print(\"My name is {} and I am {} years old.\".format(name, age))\n"
   ]
  },
  {
   "cell_type": "markdown",
   "id": "469236c2-06cd-4257-87e2-9592f8af64cc",
   "metadata": {},
   "source": [
    "1. \\n---New line\n",
    "2. \\t---Tab\n",
    "3. \\\\---Backslash\n",
    "4.  \\'---Single quote\n",
    "5.  \\\"---Double quote"
   ]
  },
  {
   "cell_type": "code",
   "execution_count": 39,
   "id": "0b3a4f4b-0992-4c50-9552-4cd291cd74ce",
   "metadata": {},
   "outputs": [
    {
     "name": "stdout",
     "output_type": "stream",
     "text": [
      "He said: \"Python is fun!\"\n"
     ]
    }
   ],
   "source": [
    "print(\"He said: \\\"Python is fun!\\\"\")"
   ]
  },
  {
   "cell_type": "markdown",
   "id": "7e0a529b-7e85-428e-aa1a-1df29726fc84",
   "metadata": {},
   "source": [
    "#### STRING PROBLEMS"
   ]
  },
  {
   "cell_type": "code",
   "execution_count": 40,
   "id": "667389fb-17e3-4beb-88d8-8604370ba193",
   "metadata": {},
   "outputs": [
    {
     "name": "stdin",
     "output_type": "stream",
     "text": [
      "Enter a string: sharmila\n"
     ]
    },
    {
     "name": "stdout",
     "output_type": "stream",
     "text": [
      "['a', 'i', 'a']\n"
     ]
    }
   ],
   "source": [
    "# Given a string, return a list of vowels in the string.\n",
    "text=input(\"Enter a string:\")\n",
    "vowels=[i for i in text.lower() if i in \"aeiou\"]\n",
    "print(vowels)"
   ]
  },
  {
   "cell_type": "code",
   "execution_count": 41,
   "id": "fbafe7bc-b8f9-45e9-be3d-66adf19d12bf",
   "metadata": {},
   "outputs": [
    {
     "name": "stdin",
     "output_type": "stream",
     "text": [
      "Enter a sentence or a word seperated by space : sharmial\n"
     ]
    },
    {
     "name": "stdout",
     "output_type": "stream",
     "text": [
      "[3]\n"
     ]
    }
   ],
   "source": [
    "# count no of vowels in each word \n",
    "text=input(\"Enter a sentence or a word seperated by space :\")\n",
    "char=text.lower().split()\n",
    "vowels=[sum(1 for i in j if i in \"aeiou\")for j in char]\n",
    "print(vowels)\n"
   ]
  },
  {
   "cell_type": "code",
   "execution_count": 3,
   "id": "f309e139-ac72-42b6-9902-0fbc8da93111",
   "metadata": {},
   "outputs": [
    {
     "name": "stdin",
     "output_type": "stream",
     "text": [
      "Enter a ssentence or a word seperated by space : he is an angel\n"
     ]
    },
    {
     "name": "stdout",
     "output_type": "stream",
     "text": [
      "he : 1\n",
      "is : 1\n",
      "an : 1\n",
      "angel : 2\n"
     ]
    }
   ],
   "source": [
    "# print the words along with the vowels count\n",
    "text=input(\"Enter a ssentence or a word seperated by space :\")\n",
    "char=text.lower().split()\n",
    "vowels=[print(f\"{j} : {sum(1 for i in j if i in \"aeiou\")}\") for j in char]\n"
   ]
  },
  {
   "cell_type": "code",
   "execution_count": 43,
   "id": "4b2b0397-a932-4ca0-85d9-9bf9794b1907",
   "metadata": {},
   "outputs": [
    {
     "name": "stdin",
     "output_type": "stream",
     "text": [
      "Enter a ssentence or a word seperated by space : Sam i am here\n"
     ]
    },
    {
     "name": "stdout",
     "output_type": "stream",
     "text": [
      "sam :1 ---vowels --> ['a']\n",
      "i :1 ---vowels --> ['i']\n",
      "am :1 ---vowels --> ['a']\n",
      "here :2 ---vowels --> ['e', 'e']\n"
     ]
    }
   ],
   "source": [
    "# print the vowels besid ethe words and also the count\n",
    "text=input(\"Enter a ssentence or a word seperated by space :\")\n",
    "char=text.lower().split()\n",
    "vowels=[print(f\"{j} :{sum(1 for i in j if i in \"aeiou\")} ---vowels --> {[i for i in j if i in \"aeiou\"]}\")for j in char]"
   ]
  },
  {
   "cell_type": "code",
   "execution_count": 46,
   "id": "27f3cad8-a0aa-42e6-9a2f-c5087f41ae77",
   "metadata": {},
   "outputs": [
    {
     "name": "stdin",
     "output_type": "stream",
     "text": [
      "Enter a word: sAm\n"
     ]
    },
    {
     "name": "stdout",
     "output_type": "stream",
     "text": [
      "sAm : vowels ---> ['A']\n"
     ]
    }
   ],
   "source": [
    "#List all vowels in a word.\n",
    "text = input(\"Enter a word:\")\n",
    "vowels=[print(f\"{text} : vowels ---> {[i for i in text if i.lower() in \"aeiou\"]}\")]"
   ]
  },
  {
   "cell_type": "code",
   "execution_count": 6,
   "id": "b0b666cd-4743-46ce-b1fd-d4b4e6adb2a0",
   "metadata": {},
   "outputs": [
    {
     "name": "stdin",
     "output_type": "stream",
     "text": [
      "Enter a word: sharm\n"
     ]
    },
    {
     "name": "stdout",
     "output_type": "stream",
     "text": [
      "sharm : vowels---> ['a']\n"
     ]
    }
   ],
   "source": [
    "#another method \n",
    "text=input(\"Enter a word:\")\n",
    "vowels=[i for i in text.lower() if i in \"aeiou\"]\n",
    "print(f\"{text} : vowels---> {vowels}\")"
   ]
  },
  {
   "cell_type": "code",
   "execution_count": 7,
   "id": "655b6968-c913-4a4e-b0c3-5557fb233659",
   "metadata": {},
   "outputs": [
    {
     "name": "stdin",
     "output_type": "stream",
     "text": [
      "Enter a sentence (seperated by space): is\n"
     ]
    },
    {
     "name": "stdout",
     "output_type": "stream",
     "text": [
      "is vowels -->['i']\n"
     ]
    }
   ],
   "source": [
    "#List all words that contain at least one vowel.\n",
    "text=input(\"Enter a sentence (seperated by space):\")\n",
    "words= text.lower().split()\n",
    "a=[(f\"{word} vowels -->{[letter for letter in word if letter in \"aeiou\"]}\") for word in words if any (letter in \"aeiou\" for letter in word )]\n",
    "for i in a:\n",
    "    print(i)"
   ]
  },
  {
   "cell_type": "code",
   "execution_count": 8,
   "id": "b09da162-8838-4b86-a557-6abecc3baaa8",
   "metadata": {},
   "outputs": [
    {
     "name": "stdin",
     "output_type": "stream",
     "text": [
      "Enter a sentence (seperated by space): s\n"
     ]
    }
   ],
   "source": [
    "#Count total vowels in the entire sentence.\n",
    "text=input(\"Enter a sentence (seperated by space):\")\n",
    "words= text.lower().split()\n",
    "a=[(f\"no.of.vowels in ({word})--> {(sum(1 for letter in word if letter in \"aeiou\"))}\") for word in words if any(letter in \"aeiou\" for letter in word)]\n",
    "for i in a:\n",
    "    print(i)"
   ]
  },
  {
   "cell_type": "code",
   "execution_count": 9,
   "id": "27a35b41-865c-4205-8570-698bacf22eaf",
   "metadata": {},
   "outputs": [
    {
     "name": "stdin",
     "output_type": "stream",
     "text": [
      "Enter a sentence (seperated by space): wsnj\n"
     ]
    },
    {
     "name": "stdout",
     "output_type": "stream",
     "text": [
      "[]\n"
     ]
    }
   ],
   "source": [
    "# Input a sentence and list all words that contain at least one vowel.\n",
    "#Example input: \"sky apple orange fly\"\n",
    "#Expected output: ['apple', 'orange']\n",
    "text=input(\"Enter a sentence (seperated by space):\")\n",
    "words= text.lower().split()\n",
    "vowels=[word for word in words if any (letter in \"aeiou\" for letter in word)]\n",
    "print(vowels)"
   ]
  },
  {
   "cell_type": "code",
   "execution_count": 10,
   "id": "e06acf79-f30f-417a-aec1-9f697eb1d285",
   "metadata": {},
   "outputs": [
    {
     "name": "stdin",
     "output_type": "stream",
     "text": [
      "Enter a word: wdnkjh\n"
     ]
    },
    {
     "name": "stdout",
     "output_type": "stream",
     "text": [
      "[]\n"
     ]
    }
   ],
   "source": [
    "# Input a word and display all the vowels present in it.\n",
    "# Example input: \"education\"\n",
    "# Expected output: ['e', 'u', 'a', 'i', 'o']\n",
    "text=input(\"Enter a word:\")\n",
    "word= text.lower()\n",
    "vowels=[letters for letters in word if letters in \"aeiou\"]\n",
    "print(vowels)\n"
   ]
  },
  {
   "cell_type": "code",
   "execution_count": 11,
   "id": "ae0f4919-d845-47be-906e-2d697391a75f",
   "metadata": {},
   "outputs": [
    {
     "name": "stdin",
     "output_type": "stream",
     "text": [
      "Enter a sentence (seperated by space): wjhdkl\n"
     ]
    }
   ],
   "source": [
    "# Input a sentence and display each word along with the number of vowels it contains.\n",
    "#Example input: \"sky apple orange\"\n",
    "# Output: apple: 2 vowels orange: 3 vowels\n",
    "text=input(\"Enter a sentence (seperated by space):\")\n",
    "words= text.lower().split()\n",
    "vowels =[f\"{word} : {sum(1 for letter in word if letter in  'aeiou')} vowels\" for word in words if any (letter in \"aeiou\" for letter in word)]\n",
    "for i  in vowels:\n",
    "    print(i)"
   ]
  },
  {
   "cell_type": "code",
   "execution_count": 12,
   "id": "142174f4-bbc2-482c-8287-6cbea657698e",
   "metadata": {},
   "outputs": [
    {
     "name": "stdin",
     "output_type": "stream",
     "text": [
      "Enter a sentence (seperated by space): nwdhl\n"
     ]
    },
    {
     "name": "stdout",
     "output_type": "stream",
     "text": [
      "[]\n"
     ]
    }
   ],
   "source": [
    "# Print a list of tuples where each tuple contains a word and a list of vowels in that word.\n",
    "# Example input: \"hello world python ai\"\n",
    "# Output:[('hello', ['e', 'o']), ('world', ['o']), ('ai', ['a', 'i'])]\n",
    "text=input(\"Enter a sentence (seperated by space):\")\n",
    "words= text.lower().split()\n",
    "vowels=[(word ,[letter for letter in word if letter in 'aeiou']) for word in words if any(letter in 'aeiou' for letter in word)]\n",
    "print(vowels)\n"
   ]
  },
  {
   "cell_type": "code",
   "execution_count": 53,
   "id": "9f589791-00ee-46d3-9d57-51d070f3708c",
   "metadata": {},
   "outputs": [
    {
     "name": "stdin",
     "output_type": "stream",
     "text": [
      "Enter a string: madam\n"
     ]
    },
    {
     "name": "stdout",
     "output_type": "stream",
     "text": [
      "yes\n"
     ]
    }
   ],
   "source": [
    "# Check if a string is a palindrome.\n",
    "text = input(\"Enter a string:\")\n",
    "lower = text.lower()\n",
    "check = [print(\"yes\") if lower==lower[::-1] else print(\"no\")]"
   ]
  },
  {
   "cell_type": "code",
   "execution_count": 54,
   "id": "a027d7ab-f094-45ef-8c46-fa9ae5617e43",
   "metadata": {},
   "outputs": [
    {
     "data": {
      "text/plain": [
       "'Hi My Name Is Sam'"
      ]
     },
     "execution_count": 54,
     "metadata": {},
     "output_type": "execute_result"
    }
   ],
   "source": [
    "# Capitalize each word in a sentence.\n",
    "a = \"Hi my name is sam\"\n",
    "a.title()"
   ]
  }
 ],
 "metadata": {
  "kernelspec": {
   "display_name": "Python 3 (ipykernel)",
   "language": "python",
   "name": "python3"
  },
  "language_info": {
   "codemirror_mode": {
    "name": "ipython",
    "version": 3
   },
   "file_extension": ".py",
   "mimetype": "text/x-python",
   "name": "python",
   "nbconvert_exporter": "python",
   "pygments_lexer": "ipython3",
   "version": "3.13.2"
  }
 },
 "nbformat": 4,
 "nbformat_minor": 5
}
