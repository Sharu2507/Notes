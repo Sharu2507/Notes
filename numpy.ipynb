{
 "cells": [
  {
   "cell_type": "markdown",
   "id": "ef838619-b156-49a4-8d66-6637d3646b3f",
   "metadata": {},
   "source": [
    "### NUMPY :\n",
    "\n",
    "> Why NumPy is Fast — The Role of C\n",
    "\n",
    "1. Internally implemented in C: NumPy's core array operations are written in compiled C, which is much faster than Python.\n",
    "\n",
    "2. No Python loops: When you do array1 + array2, NumPy doesn't loop in Python — it executes compiled C code behind the scenes.\n",
    "\n",
    "3. Vectorization: NumPy uses SIMD (Single Instruction, Multiple Data) under the hood.\n",
    "\n",
    "4. Contiguous memory allocation: Unlike lists, NumPy stores arrays in continuous blocks of memory, speeding up access. no need reference like lists\n",
    "\n",
    "5. So when we run a array it runs as a whole block while in loop it iterates over which makes it slower\n",
    "\n",
    "6. NumPy (Numerical Python) is used for:\n",
    "     1. Fast mathematical operations on arrays even can handle large number of data\n",
    "     2. Handling large datasets\n",
    "     3. Vector and matrix operations\n",
    "\n",
    "eg : image of black hole (using 8 diffrent telescopes are arranged 350 terrabyte of data is obtained per day in the telescope to generate the image they used numpy) (event horizon telescope) - virtual telescope\n",
    "\n",
    "7. in list the data is stored in different reference and the data has to bought by the reference\n",
    "\n",
    "8. we are using numpy for data handling and data is stored in the form of arrays"
   ]
  },
  {
   "cell_type": "markdown",
   "id": "5738a588-f03a-4b78-b404-01b762737f0e",
   "metadata": {},
   "source": [
    "#### IMPORTING NUMPY"
   ]
  },
  {
   "cell_type": "code",
   "execution_count": 1,
   "id": "002b4946-23f6-4d28-b636-0cfea38f843b",
   "metadata": {},
   "outputs": [],
   "source": [
    "import numpy as np"
   ]
  },
  {
   "cell_type": "markdown",
   "id": "05051b09-cad5-48b1-9a2b-35ad1bbe0293",
   "metadata": {},
   "source": [
    "#### PROOF NUMPY IS FASTER THAN LISTS"
   ]
  },
  {
   "cell_type": "code",
   "execution_count": 2,
   "id": "e568baa7-7342-4082-9e30-ac4edf2ffa69",
   "metadata": {},
   "outputs": [
    {
     "name": "stdout",
     "output_type": "stream",
     "text": [
      "List time: 0.16713571548461914\n",
      "NumPy time: 0.005573749542236328\n"
     ]
    }
   ],
   "source": [
    "# Eg\n",
    "import time     # importing time\n",
    "import numpy as np\n",
    "\n",
    "# Python list\n",
    "lst = list(range(1000000))\n",
    "start = time.time() # running start time\n",
    "lst = [x * 2 for x in lst]\n",
    "print(\"List time:\", time.time() - start) # running time - starting time\n",
    "\n",
    "# NumPy array\n",
    "arr = np.arange(1000000)\n",
    "start = time.time()\n",
    "arr = arr * 2\n",
    "print(\"NumPy time:\", time.time() - start)\n"
   ]
  },
  {
   "cell_type": "markdown",
   "id": "5b8be045-6afd-4949-8035-bdefd6d87f73",
   "metadata": {},
   "source": [
    "#### ARRAY CREATION"
   ]
  },
  {
   "cell_type": "code",
   "execution_count": 18,
   "id": "300ab470-c9dd-450d-85fc-bdca423751df",
   "metadata": {},
   "outputs": [
    {
     "name": "stdout",
     "output_type": "stream",
     "text": [
      "1 dimensional array:\n",
      " [1 2 3 4 5]\n",
      "\n",
      "2D array:\n",
      " [[1 2 3]\n",
      " [2 3 4]\n",
      " [4 5 6]]\n",
      "\n",
      "3D array:\n",
      " [[[1 2 3]\n",
      "  [2 3 4]\n",
      "  [4 5 6]]]\n"
     ]
    }
   ],
   "source": [
    "# 1 D array\n",
    "arr1 = np.array([1,2,3,4,5])\n",
    "print(\"1 dimensional array:\\n\",arr1)\n",
    "\n",
    "#2 D array\n",
    "arr2 = np.array([[1,2,3],[2,3,4],[4,5,6]])\n",
    "print(\"\\n2D array:\\n\", arr2)\n",
    "\n",
    "#3 D array\n",
    "arr3 = np.array([[[1,2,3],[2,3,4],[4,5,6]]])\n",
    "print(\"\\n3D array:\\n\", arr3)\n"
   ]
  },
  {
   "cell_type": "markdown",
   "id": "282172b1-87b8-4371-80ac-2f496761ed58",
   "metadata": {},
   "source": [
    "#### INSPECTING ARRAYS"
   ]
  },
  {
   "cell_type": "code",
   "execution_count": 88,
   "id": "eb9a36a4-94c3-4954-88e4-028dcb2e7b4e",
   "metadata": {},
   "outputs": [
    {
     "name": "stdout",
     "output_type": "stream",
     "text": [
      "THE SHAPE OF ARRAY IS : (5,)\n",
      "THE DIMENSION IS : 1\n",
      "THE SIZE OF ARRAY IS : 5\n",
      "THE DATA TYPE OF ARRAY IS : int64\n",
      "THE DATA TYPE IS :  int64\n",
      "ITEM SIZE: 8\n",
      "TOTAL BYTES: 40\n"
     ]
    }
   ],
   "source": [
    "# CHECKING SHAPE\n",
    "print(\"THE SHAPE OF ARRAY IS :\", arr1.shape) #(row elements)\n",
    "\n",
    "# CHECKING DIMENSION\n",
    "print(\"THE DIMENSION IS :\",arr1.ndim)\n",
    "\n",
    "# CHECKING SIZE\n",
    "print(\"THE SIZE OF ARRAY IS :\", arr1.size)\n",
    "\n",
    "# CHECKING DATA TYPE\n",
    "print(\"THE DATA TYPE OF ARRAY IS :\", arr1.dtype)\n",
    "\n",
    "# NAME OF DATA TYPE\n",
    "print(\"THE DATA TYPE IS : \", arr1.dtype.name)\n",
    "\n",
    "\n",
    "# CHECKING BYTES\n",
    "print(\"ITEM SIZE:\",arr1.itemsize) # space for each element stored\n",
    "\n",
    "# CHECKING BYTES\n",
    "print(\"TOTAL BYTES:\",arr1.nbytes)  # no of elements * size of each element == 5*8 ==40\n",
    "\n",
    "\n"
   ]
  },
  {
   "cell_type": "code",
   "execution_count": 87,
   "id": "d56e8e4b-4aa8-4d71-9de2-ce6ec28ab87c",
   "metadata": {},
   "outputs": [
    {
     "name": "stdout",
     "output_type": "stream",
     "text": [
      "THE SHAPE OF ARRAY IS : (3, 3)\n",
      "THE DIMENSION IS : 2\n",
      "THE SIZE OF ARRAY IS : 9\n",
      "THE DATA TYPE OF ARRAY IS : int64\n",
      "THE DATA TYPE IS :  int64\n",
      "ITEM SIZE: 8\n",
      "TOTAL BYTES: 72\n"
     ]
    }
   ],
   "source": [
    "# CHECKING ASPECTS FOR 2D ARRAY \n",
    "\n",
    "# CHECKING SHAPE\n",
    "print(\"THE SHAPE OF ARRAY IS :\", arr2.shape) # (rows and columns)\n",
    "\n",
    "# CHECKING DIMENSION\n",
    "print(\"THE DIMENSION IS :\",arr2.ndim)\n",
    "\n",
    "# CHECKING SIZE  # total number of elements\n",
    "print(\"THE SIZE OF ARRAY IS :\", arr2.size)\n",
    "\n",
    "# CHECKING DATA TYPE\n",
    "print(\"THE DATA TYPE OF ARRAY IS :\", arr2.dtype)\n",
    "\n",
    "# NAME OF DATA TYPE\n",
    "print(\"THE DATA TYPE IS : \", arr2.dtype.name)\n",
    "\n",
    "# CHECKING BYTES\n",
    "print(\"ITEM SIZE:\",arr2.itemsize) # space for each element stored\n",
    "\n",
    "# CHECKING BYTES\n",
    "print(\"TOTAL BYTES:\",arr2.nbytes)  # no of elements * size of each element == 9*8 ==72\n"
   ]
  },
  {
   "cell_type": "code",
   "execution_count": 89,
   "id": "9f0a8f17-9424-4a6d-ad4c-de3039da9b37",
   "metadata": {},
   "outputs": [
    {
     "name": "stdout",
     "output_type": "stream",
     "text": [
      "THE SHAPE OF ARRAY IS : (1, 3, 3)\n",
      "THE DIMENSION IS : 3\n",
      "THE SIZE OF ARRAY IS : 9\n",
      "THE DATA TYPE OF ARRAY IS : int64\n",
      "THE DATA TYPE IS :  int64\n",
      "ITEM SIZE: 8\n",
      "TOTAL BYTES: 72\n"
     ]
    }
   ],
   "source": [
    "# CHECKING ASPECTS FOR 3D ARRAY \n",
    "\n",
    "# CHECKING SHAPE\n",
    "print(\"THE SHAPE OF ARRAY IS :\", arr3.shape) # (block,rows,columns)\n",
    "\n",
    "# CHECKING DIMENSION\n",
    "print(\"THE DIMENSION IS :\",arr3.ndim)\n",
    "\n",
    "# CHECKING SIZE\n",
    "print(\"THE SIZE OF ARRAY IS :\", arr3.size)\n",
    "\n",
    "# CHECKING DATA TYPE\n",
    "print(\"THE DATA TYPE OF ARRAY IS :\", arr3.dtype)\n",
    "\n",
    "# NAME OF DATA TYPE\n",
    "print(\"THE DATA TYPE IS : \", arr3.dtype.name)\n",
    "\n",
    "# CHECKING BYTES\n",
    "print(\"ITEM SIZE:\",arr3.itemsize) # space for each element stored\n",
    "\n",
    "# CHECKING BYTES\n",
    "print(\"TOTAL BYTES:\",arr3.nbytes)  # no of elements * size of each element == 9*8 ==72\n"
   ]
  },
  {
   "cell_type": "code",
   "execution_count": 45,
   "id": "2b0ea1fd-6a43-42bb-91a0-485006ef3cf2",
   "metadata": {},
   "outputs": [
    {
     "name": "stdout",
     "output_type": "stream",
     "text": [
      "ZERO ARRAY:\n",
      " [[0 0 0]\n",
      " [0 0 0]\n",
      " [0 0 0]]\n",
      "\n",
      "ONES:\n",
      " [[1. 1. 1.]\n",
      " [1. 1. 1.]\n",
      " [1. 1. 1.]]\n",
      "\n",
      "3D ONES:\n",
      " [[[1 1 1]\n",
      "  [1 1 1]\n",
      "  [1 1 1]]\n",
      "\n",
      " [[1 1 1]\n",
      "  [1 1 1]\n",
      "  [1 1 1]]\n",
      "\n",
      " [[1 1 1]\n",
      "  [1 1 1]\n",
      "  [1 1 1]]]\n",
      "\n",
      "IDENTICAL MATRIX:\n",
      " [[1. 0. 0.]\n",
      " [0. 1. 0.]\n",
      " [0. 0. 1.]]\n",
      "\n",
      "ARANGE:\n",
      " [-5  0  5 10 15 20 25]\n",
      "\n",
      "LINSPACE:\n",
      " [0.         0.11111111 0.22222222 0.33333333 0.44444444 0.55555556\n",
      " 0.66666667 0.77777778 0.88888889 1.        ]\n",
      "\n",
      "FILL VALUE :\n",
      " [[10 10 10]\n",
      " [10 10 10]\n",
      " [10 10 10]]\n",
      "\n",
      " RANDOM MATRIX:\n",
      " [[0.16089174 0.26026579 0.10238879]\n",
      " [0.08432089 0.24977886 0.33130775]]\n",
      "\n",
      " RANDOM INT :\n",
      " [[4 2 8]\n",
      " [5 3 3]]\n",
      "\n",
      "EMPTY MATRIX:\n",
      " [[99. 99. 99.]]\n"
     ]
    }
   ],
   "source": [
    "#### ARRAY CREATION\n",
    "\n",
    "# ZERO ARRAY \n",
    "print(\"ZERO ARRAY:\\n\",np.zeros([3,3], dtype=\"int64\"))\n",
    "\n",
    "# ONES\n",
    "print (\"\\nONES:\\n\",np.ones([3,3]))\n",
    "\n",
    "# 3D ones\n",
    "print(\"\\n3D ONES:\\n\",np.ones([3,3,3],dtype=\"int64\"))\n",
    "\n",
    "# IDENTICAL ARRAY or MATRIX\n",
    "print(\"\\nIDENTICAL MATRIX:\\n\",np.eye(3))\n",
    "\n",
    "# ARANGE --- (start, stop, step)\n",
    "print(\"\\nARANGE:\\n\", np.arange(-5,30,5))\n",
    "\n",
    "# LINSPACE -- (start, stop, num_samples) --- linearly spaced values \n",
    "print(\"\\nLINSPACE:\\n\",np.linspace(0,1,10))\n",
    "\n",
    "# FILLING EMPTY ARRAY  # FILLING VALUES \n",
    "print(\"\\nFILL VALUE :\\n\",np.full([3,3], 10))\n",
    "\n",
    "# RANDOM MATRIX : FLOAT ARRAY\n",
    "print(\"\\n RANDOM MATRIX:\\n\",np.random.rand(2, 3) ) # 2 rows, 3 columns # float array\n",
    "\n",
    "#RANDOM INT \n",
    "print(\"\\n RANDOM INT :\\n\",np.random.randint(0, 10, size=(2, 3)))\n",
    "\n",
    "#EMPTY MATRIX\n",
    "n5 = np.empty([1,3])\n",
    "print(\"\\nEMPTY MATRIX:\\n\",np.empty([1,3]))\n",
    "\n",
    "# FILLING EMPTY ARRAY \n",
    "n5.fill(99)\n",
    "\n",
    "# "
   ]
  },
  {
   "cell_type": "markdown",
   "id": "a7720094-0f48-4886-b350-ad0ad007b47f",
   "metadata": {},
   "source": [
    "#### ACCESSING ELEMENTS"
   ]
  },
  {
   "cell_type": "code",
   "execution_count": 57,
   "id": "4a4e8ada-49d8-4e8a-be78-f03bbd0bc48e",
   "metadata": {},
   "outputs": [
    {
     "name": "stdout",
     "output_type": "stream",
     "text": [
      "\n",
      " ARRAY1: [1 2 3 4 5]\n",
      "\n",
      " 3RD ELEMENT IN 1 D : 3\n",
      "\n",
      " SLICING IN 1D: [2 3 4 5]\n",
      "\n",
      " START STOP STEP SLICING: [1 2]\n",
      "\n",
      " REVERSE : [5 4 3 2 1]\n"
     ]
    }
   ],
   "source": [
    "# NumPy slicing: arr[i], arr[i:j], arr[start:stop:step]\n",
    "# 1D ARRAY\n",
    "print(\"\\n ARRAY1:\",arr1)\n",
    "print(\"\\n 3RD ELEMENT IN 1 D :\",arr1[2])\n",
    "print(\"\\n SLICING IN 1D:\",arr1[1:])\n",
    "print(\"\\n START STOP STEP SLICING:\",arr1[0:2:1])\n",
    "print(\"\\n REVERSE :\", arr1[::-1])"
   ]
  },
  {
   "cell_type": "code",
   "execution_count": 71,
   "id": "f4b1b8b5-e501-406d-8077-409ee5e39bc8",
   "metadata": {},
   "outputs": [
    {
     "name": "stdout",
     "output_type": "stream",
     "text": [
      "\n",
      "2D ARRAY :\n",
      " [[1 2 3]\n",
      " [2 3 4]\n",
      " [4 5 6]]\n",
      "\n",
      "2nd row 1st value : 2\n",
      "\n",
      " 3rd COLUMNS: [3 4 6]\n",
      "\n",
      " 2nd ROWS: [2 3 4]\n",
      "\n",
      " row and column slice: [[1 2]\n",
      " [2 3]]\n"
     ]
    }
   ],
   "source": [
    "#For multidim, arr[row, col], arr[:, col], arr[row_slice, col_slice] \n",
    "#2D ARRAY\n",
    "print(\"\\n2D ARRAY :\\n\", arr2)\n",
    "print(\"\\n2nd row 1st value :\",arr2[1,0])\n",
    "print(\"\\n 3rd COLUMNS:\", arr2[:,2])\n",
    "print(\"\\n 2nd ROWS:\",arr2[1,:])\n",
    "\n"
   ]
  },
  {
   "cell_type": "raw",
   "id": "3746eec8-2854-4cf9-93f2-a4b74bfd782d",
   "metadata": {},
   "source": [
    "↑ columns\n",
    "       0   1   2\n",
    "     -------------\n",
    "r 0 | 10  20  30 |\n",
    "o 1 | 40  50  60 |\n",
    "w 2 | 70  80  90 |\n",
    "\n",
    "##### row and column slicing \n",
    "1. arr[row_slice, col_slice] "
   ]
  },
  {
   "cell_type": "code",
   "execution_count": 79,
   "id": "48ec51af-a1bf-4087-96df-61a7056a4111",
   "metadata": {},
   "outputs": [
    {
     "name": "stdout",
     "output_type": "stream",
     "text": [
      "\n",
      " row and column slice:\n",
      " [[1 2]\n",
      " [2 3]]\n",
      "\n",
      " THE ARRAY:\n",
      " [[1 2 3]\n",
      " [2 3 4]\n",
      " [4 5 6]]\n",
      "\n",
      " THE 1st row and 2nd row and 2nd column and 3rd column:\n",
      " [[2 3]\n",
      " [3 4]]\n"
     ]
    }
   ],
   "source": [
    "print(\"\\n row and column slice:\\n\", arr2[0:2,0:2])\n",
    "\n",
    "print(\"\\n THE ARRAY:\\n\",arr2)\n",
    "\n",
    "print(\"\\n THE 1st row and 2nd row and 2nd column and 3rd column:\\n\",arr2[0:2, 1:3])\n",
    "#Boolean indexing: arr[arr > value]"
   ]
  },
  {
   "cell_type": "code",
   "execution_count": 85,
   "id": "975a1629-9a52-4e9c-a53b-b1d73ecc7010",
   "metadata": {},
   "outputs": [
    {
     "name": "stdout",
     "output_type": "stream",
     "text": [
      "3D ARRAY:\n",
      " [[[ 1  2  3]\n",
      "  [ 2  3 10]\n",
      "  [ 4  5  6]]]\n",
      "indexing: 2\n"
     ]
    },
    {
     "data": {
      "text/plain": [
       "array([[[ 1,  2,  3],\n",
       "        [ 2,  3, 10],\n",
       "        [ 4,  5,  6]]])"
      ]
     },
     "execution_count": 85,
     "metadata": {},
     "output_type": "execute_result"
    }
   ],
   "source": [
    "# for 3D\n",
    "print(\"3D ARRAY:\\n\",arr3)\n",
    "\n",
    "# indexing for 3d array\n",
    "print(\"indexing:\",arr3[0,0,1])\n",
    "\n",
    "# changing the value\n",
    "arr3[0,1,2]=10\n",
    "arr3"
   ]
  },
  {
   "cell_type": "code",
   "execution_count": null,
   "id": "b068acba-c97c-431f-b69d-f471b152d792",
   "metadata": {},
   "outputs": [],
   "source": [
    "#### IMPORTANT : INDEX STARTS WITH 0 "
   ]
  },
  {
   "cell_type": "code",
   "execution_count": 93,
   "id": "d3f72592-c27e-4e2d-9261-19ae05042a09",
   "metadata": {},
   "outputs": [
    {
     "name": "stdout",
     "output_type": "stream",
     "text": [
      "[ 2  7 17  2  9 16 17  3 18 12]\n",
      "SORTING : [ 2  2  3  7  9 12 16 17 17 18]\n"
     ]
    }
   ],
   "source": [
    "### SORT \n",
    "n10 = np.random.randint(1,20,size=(10,))\n",
    "print(n10)\n",
    "print(\"SORTING :\",np.sort(n10))"
   ]
  },
  {
   "cell_type": "code",
   "execution_count": null,
   "id": "5f24648f-39be-4b61-99c6-b1f6f05f9d4b",
   "metadata": {},
   "outputs": [],
   "source": [
    "### 2D array sort\n"
   ]
  }
 ],
 "metadata": {
  "kernelspec": {
   "display_name": "Python 3 (ipykernel)",
   "language": "python",
   "name": "python3"
  },
  "language_info": {
   "codemirror_mode": {
    "name": "ipython",
    "version": 3
   },
   "file_extension": ".py",
   "mimetype": "text/x-python",
   "name": "python",
   "nbconvert_exporter": "python",
   "pygments_lexer": "ipython3",
   "version": "3.13.2"
  }
 },
 "nbformat": 4,
 "nbformat_minor": 5
}
