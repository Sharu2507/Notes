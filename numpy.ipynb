{
 "cells": [
  {
   "cell_type": "markdown",
   "id": "ef838619-b156-49a4-8d66-6637d3646b3f",
   "metadata": {},
   "source": [
    "### NUMPY :\n",
    "\n",
    "> Why NumPy is Fast — The Role of C\n",
    "\n",
    "1. Internally implemented in C: NumPy's core array operations are written in compiled C, which is much faster than Python.\n",
    "\n",
    "2. No Python loops: When you do array1 + array2, NumPy doesn't loop in Python — it executes compiled C code behind the scenes.\n",
    "\n",
    "3. Vectorization: NumPy uses SIMD (Single Instruction, Multiple Data) under the hood.\n",
    "\n",
    "4. Contiguous memory allocation: Unlike lists, NumPy stores arrays in continuous blocks of memory, speeding up access. no need reference like lists\n",
    "\n",
    "5. So when we run a array it runs as a whole block while in loop it iterates over which makes it slower\n",
    "\n",
    "6. NumPy (Numerical Python) is used for:\n",
    "     1. Fast mathematical operations on arrays even can handle large number of data\n",
    "     2. Handling large datasets\n",
    "     3. Vector and matrix operations\n",
    "\n",
    "eg : image of black hole (using 8 diffrent telescopes are arranged 350 terrabyte of data is obtained per day in the telescope to generate the image they used numpy) (event horizon telescope) - virtual telescope\n",
    "\n",
    "7. in list the data is stored in different reference and the data has to bought by the reference\n",
    "\n",
    "8. we are using numpy for data handling and data is stored in the form of arrays"
   ]
  },
  {
   "cell_type": "markdown",
   "id": "dc88c4b4-4a91-4be4-b2f6-da7a8222dcfd",
   "metadata": {},
   "source": [
    "| **Function / Concept** | **Description**             | **Example**           | **Output**                     |\n",
    "| ---------------------- | --------------------------- | --------------------- | ------------------------------ |\n",
    "| `np.array()`           | Creates NumPy array         | `np.array([1, 2, 3])` | `[1 2 3]`                      |\n",
    "| `np.zeros((2, 3))`     | 2x3 array of zeros          |                       | `[[0. 0. 0.], [0. 0. 0.]]`     |\n",
    "| `np.ones((2, 2))`      | 2x2 array of ones           |                       | `[[1. 1.], [1. 1.]]`           |\n",
    "| `np.arange(1, 10, 2)`  | Range with step             |                       | `[1 3 5 7 9]`                  |\n",
    "| `np.linspace(0, 1, 5)` | Even spacing                |                       | `[0. , 0.25, 0.5 , 0.75, 1. ]` |\n",
    "| `.shape`               | Returns shape               | `a.shape`             | e.g., `(2, 3)`                 |\n",
    "| `.reshape()`           | Changes shape               | `a.reshape(3, 2)`     | 3 rows × 2 cols                |\n",
    "| `.flatten()`           | Converts to 1D              |                       | `[1 2 3 4]`                    |\n",
    "| `.mean()`              | Average value               | `a.mean()`            | `2.5` (for `[1,2,3,4]`)        |\n",
    "| `.max()` / `.min()`    | Max/Min value               | `a.max()`             | `4`                            |\n",
    "| `np.hstack()`          | Stack arrays horizontally   | `np.hstack((a, b))`   | `[1 2 3 1 2 3]`                |\n",
    "| `np.vstack()`          | Stack arrays vertically     | `np.vstack((a, b))`   | `[[1 2 3],[1 2 3]]`            |\n",
    "| `np.split()`           | Splits array into subarrays | `np.split(a, 2)`      | Two halves of `a`              |\n",
    "| Indexing/Slicing       | Access parts of array       | `a[1:3]`, `a[:, 1]`   | Slice or column access         |\n"
   ]
  },
  {
   "cell_type": "markdown",
   "id": "5738a588-f03a-4b78-b404-01b762737f0e",
   "metadata": {},
   "source": [
    "#### IMPORTING NUMPY"
   ]
  },
  {
   "cell_type": "code",
   "execution_count": 1,
   "id": "002b4946-23f6-4d28-b636-0cfea38f843b",
   "metadata": {},
   "outputs": [],
   "source": [
    "import numpy as np"
   ]
  },
  {
   "cell_type": "markdown",
   "id": "05051b09-cad5-48b1-9a2b-35ad1bbe0293",
   "metadata": {},
   "source": [
    "#### PROOF NUMPY IS FASTER THAN LISTS"
   ]
  },
  {
   "cell_type": "code",
   "execution_count": 2,
   "id": "e568baa7-7342-4082-9e30-ac4edf2ffa69",
   "metadata": {},
   "outputs": [
    {
     "name": "stdout",
     "output_type": "stream",
     "text": [
      "List time: 0.0921175479888916\n",
      "NumPy time: 0.003907918930053711\n"
     ]
    }
   ],
   "source": [
    "# Eg\n",
    "import time     # importing time\n",
    "import numpy as np\n",
    "\n",
    "# Python list\n",
    "lst = list(range(1000000))\n",
    "start = time.time() # running start time\n",
    "lst = [x * 2 for x in lst]\n",
    "print(\"List time:\", time.time() - start) # running time - starting time\n",
    "\n",
    "# NumPy array\n",
    "arr = np.arange(1000000)\n",
    "start = time.time()\n",
    "arr = arr * 2\n",
    "print(\"NumPy time:\", time.time() - start)\n"
   ]
  },
  {
   "cell_type": "markdown",
   "id": "5b8be045-6afd-4949-8035-bdefd6d87f73",
   "metadata": {},
   "source": [
    "#### ARRAY CREATION"
   ]
  },
  {
   "cell_type": "code",
   "execution_count": 3,
   "id": "300ab470-c9dd-450d-85fc-bdca423751df",
   "metadata": {},
   "outputs": [
    {
     "name": "stdout",
     "output_type": "stream",
     "text": [
      "1 dimensional array:\n",
      " [1 2 3 4 5]\n",
      "\n",
      "2D array:\n",
      " [[1 2 3]\n",
      " [2 3 4]\n",
      " [4 5 6]]\n",
      "\n",
      "3D array:\n",
      " [[[1 2 3]\n",
      "  [2 3 4]\n",
      "  [4 5 6]]]\n"
     ]
    }
   ],
   "source": [
    "# 1 D array\n",
    "arr1 = np.array([1,2,3,4,5])\n",
    "print(\"1 dimensional array:\\n\",arr1)\n",
    "\n",
    "#2 D array\n",
    "arr2 = np.array([[1,2,3],[2,3,4],[4,5,6]])\n",
    "print(\"\\n2D array:\\n\", arr2)\n",
    "\n",
    "#3 D array\n",
    "arr3 = np.array([[[1,2,3],[2,3,4],[4,5,6]]])\n",
    "print(\"\\n3D array:\\n\", arr3)\n"
   ]
  },
  {
   "cell_type": "markdown",
   "id": "282172b1-87b8-4371-80ac-2f496761ed58",
   "metadata": {},
   "source": [
    "#### INSPECTING ARRAYS"
   ]
  },
  {
   "cell_type": "code",
   "execution_count": 4,
   "id": "eb9a36a4-94c3-4954-88e4-028dcb2e7b4e",
   "metadata": {},
   "outputs": [
    {
     "name": "stdout",
     "output_type": "stream",
     "text": [
      "THE SHAPE OF ARRAY IS : (5,)\n",
      "THE DIMENSION IS : 1\n",
      "THE SIZE OF ARRAY IS : 5\n",
      "THE DATA TYPE OF ARRAY IS : int64\n",
      "THE DATA TYPE IS :  int64\n",
      "ITEM SIZE: 8\n",
      "TOTAL BYTES: 40\n"
     ]
    }
   ],
   "source": [
    "# CHECKING SHAPE\n",
    "print(\"THE SHAPE OF ARRAY IS :\", arr1.shape) #(row elements)\n",
    "\n",
    "# CHECKING DIMENSION\n",
    "print(\"THE DIMENSION IS :\",arr1.ndim)\n",
    "\n",
    "# CHECKING SIZE\n",
    "print(\"THE SIZE OF ARRAY IS :\", arr1.size)\n",
    "\n",
    "# CHECKING DATA TYPE\n",
    "print(\"THE DATA TYPE OF ARRAY IS :\", arr1.dtype)\n",
    "\n",
    "# NAME OF DATA TYPE\n",
    "print(\"THE DATA TYPE IS : \", arr1.dtype.name)\n",
    "\n",
    "\n",
    "# CHECKING BYTES\n",
    "print(\"ITEM SIZE:\",arr1.itemsize) # space for each element stored\n",
    "\n",
    "# CHECKING BYTES\n",
    "print(\"TOTAL BYTES:\",arr1.nbytes)  # no of elements * size of each element == 5*8 ==40\n",
    "\n",
    "\n"
   ]
  },
  {
   "cell_type": "code",
   "execution_count": 5,
   "id": "d56e8e4b-4aa8-4d71-9de2-ce6ec28ab87c",
   "metadata": {},
   "outputs": [
    {
     "name": "stdout",
     "output_type": "stream",
     "text": [
      "THE SHAPE OF ARRAY IS : (3, 3)\n",
      "THE DIMENSION IS : 2\n",
      "THE SIZE OF ARRAY IS : 9\n",
      "THE DATA TYPE OF ARRAY IS : int64\n",
      "THE DATA TYPE IS :  int64\n",
      "ITEM SIZE: 8\n",
      "TOTAL BYTES: 72\n"
     ]
    }
   ],
   "source": [
    "# CHECKING ASPECTS FOR 2D ARRAY \n",
    "\n",
    "# CHECKING SHAPE\n",
    "print(\"THE SHAPE OF ARRAY IS :\", arr2.shape) # (rows and columns)\n",
    "\n",
    "# CHECKING DIMENSION\n",
    "print(\"THE DIMENSION IS :\",arr2.ndim)\n",
    "\n",
    "# CHECKING SIZE  # total number of elements\n",
    "print(\"THE SIZE OF ARRAY IS :\", arr2.size)\n",
    "\n",
    "# CHECKING DATA TYPE\n",
    "print(\"THE DATA TYPE OF ARRAY IS :\", arr2.dtype)\n",
    "\n",
    "# NAME OF DATA TYPE\n",
    "print(\"THE DATA TYPE IS : \", arr2.dtype.name)\n",
    "\n",
    "# CHECKING BYTES\n",
    "print(\"ITEM SIZE:\",arr2.itemsize) # space for each element stored\n",
    "\n",
    "# CHECKING BYTES\n",
    "print(\"TOTAL BYTES:\",arr2.nbytes)  # no of elements * size of each element == 9*8 ==72\n"
   ]
  },
  {
   "cell_type": "code",
   "execution_count": 6,
   "id": "9f0a8f17-9424-4a6d-ad4c-de3039da9b37",
   "metadata": {},
   "outputs": [
    {
     "name": "stdout",
     "output_type": "stream",
     "text": [
      "THE SHAPE OF ARRAY IS : (1, 3, 3)\n",
      "THE DIMENSION IS : 3\n",
      "THE SIZE OF ARRAY IS : 9\n",
      "THE DATA TYPE OF ARRAY IS : int64\n",
      "THE DATA TYPE IS :  int64\n",
      "ITEM SIZE: 8\n",
      "TOTAL BYTES: 72\n"
     ]
    }
   ],
   "source": [
    "# CHECKING ASPECTS FOR 3D ARRAY \n",
    "\n",
    "# CHECKING SHAPE\n",
    "print(\"THE SHAPE OF ARRAY IS :\", arr3.shape) # (block,rows,columns)\n",
    "\n",
    "# CHECKING DIMENSION\n",
    "print(\"THE DIMENSION IS :\",arr3.ndim)\n",
    "\n",
    "# CHECKING SIZE\n",
    "print(\"THE SIZE OF ARRAY IS :\", arr3.size)\n",
    "\n",
    "# CHECKING DATA TYPE\n",
    "print(\"THE DATA TYPE OF ARRAY IS :\", arr3.dtype)\n",
    "\n",
    "# NAME OF DATA TYPE\n",
    "print(\"THE DATA TYPE IS : \", arr3.dtype.name)\n",
    "\n",
    "# CHECKING BYTES\n",
    "print(\"ITEM SIZE:\",arr3.itemsize) # space for each element stored\n",
    "\n",
    "# CHECKING BYTES\n",
    "print(\"TOTAL BYTES:\",arr3.nbytes)  # no of elements * size of each element == 9*8 ==72\n"
   ]
  },
  {
   "cell_type": "code",
   "execution_count": 7,
   "id": "2b0ea1fd-6a43-42bb-91a0-485006ef3cf2",
   "metadata": {},
   "outputs": [
    {
     "name": "stdout",
     "output_type": "stream",
     "text": [
      "ZERO ARRAY:\n",
      " [[0 0 0]\n",
      " [0 0 0]\n",
      " [0 0 0]]\n",
      "\n",
      "ONES:\n",
      " [[1. 1. 1.]\n",
      " [1. 1. 1.]\n",
      " [1. 1. 1.]]\n",
      "\n",
      "3D ONES:\n",
      " [[[1 1 1]\n",
      "  [1 1 1]\n",
      "  [1 1 1]]\n",
      "\n",
      " [[1 1 1]\n",
      "  [1 1 1]\n",
      "  [1 1 1]]\n",
      "\n",
      " [[1 1 1]\n",
      "  [1 1 1]\n",
      "  [1 1 1]]]\n",
      "\n",
      "IDENTICAL MATRIX:\n",
      " [[1. 0. 0.]\n",
      " [0. 1. 0.]\n",
      " [0. 0. 1.]]\n",
      "\n",
      "ARANGE:\n",
      " [-5  0  5 10 15 20 25]\n",
      "\n",
      "LINSPACE:\n",
      " [0.         0.11111111 0.22222222 0.33333333 0.44444444 0.55555556\n",
      " 0.66666667 0.77777778 0.88888889 1.        ]\n",
      "\n",
      "FILL VALUE :\n",
      " [[10 10 10]\n",
      " [10 10 10]\n",
      " [10 10 10]]\n",
      "\n",
      " RANDOM MATRIX:\n",
      " [[0.75293487 0.40878624 0.29125604]\n",
      " [0.97531932 0.2866858  0.33664568]]\n",
      "\n",
      " RANDOM INT :\n",
      " [[1 5 9]\n",
      " [9 2 3]]\n",
      "\n",
      "EMPTY MATRIX:\n",
      " [[1. 1. 1.]]\n"
     ]
    }
   ],
   "source": [
    "#### ARRAY CREATION\n",
    "\n",
    "# ZERO ARRAY \n",
    "print(\"ZERO ARRAY:\\n\",np.zeros([3,3], dtype=\"int64\"))\n",
    "\n",
    "# ONES\n",
    "print (\"\\nONES:\\n\",np.ones([3,3]))\n",
    "\n",
    "# 3D ones\n",
    "print(\"\\n3D ONES:\\n\",np.ones([3,3,3],dtype=\"int64\"))\n",
    "\n",
    "# IDENTICAL ARRAY or MATRIX\n",
    "print(\"\\nIDENTICAL MATRIX:\\n\",np.eye(3))\n",
    "\n",
    "# ARANGE --- (start, stop, step)\n",
    "print(\"\\nARANGE:\\n\", np.arange(-5,30,5))\n",
    "\n",
    "# LINSPACE -- (start, stop, num_samples) --- linearly spaced values \n",
    "print(\"\\nLINSPACE:\\n\",np.linspace(0,1,10))\n",
    "\n",
    "# FILLING EMPTY ARRAY  # FILLING VALUES \n",
    "print(\"\\nFILL VALUE :\\n\",np.full([3,3], 10))\n",
    "\n",
    "# RANDOM MATRIX : FLOAT ARRAY\n",
    "print(\"\\n RANDOM MATRIX:\\n\",np.random.rand(2, 3) ) # 2 rows, 3 columns # float array\n",
    "\n",
    "#RANDOM INT \n",
    "print(\"\\n RANDOM INT :\\n\",np.random.randint(0, 10, size=(2, 3)))\n",
    "\n",
    "#EMPTY MATRIX\n",
    "n5 = np.empty([1,3])\n",
    "print(\"\\nEMPTY MATRIX:\\n\",np.empty([1,3]))\n",
    "\n",
    "# FILLING EMPTY ARRAY \n",
    "n5.fill(99)\n",
    "\n",
    "# "
   ]
  },
  {
   "cell_type": "markdown",
   "id": "a7720094-0f48-4886-b350-ad0ad007b47f",
   "metadata": {},
   "source": [
    "#### ACCESSING ELEMENTS"
   ]
  },
  {
   "cell_type": "code",
   "execution_count": 8,
   "id": "4a4e8ada-49d8-4e8a-be78-f03bbd0bc48e",
   "metadata": {},
   "outputs": [
    {
     "name": "stdout",
     "output_type": "stream",
     "text": [
      "\n",
      " ARRAY1: [1 2 3 4 5]\n",
      "\n",
      " 3RD ELEMENT IN 1 D : 3\n",
      "\n",
      " SLICING IN 1D: [2 3 4 5]\n",
      "\n",
      " START STOP STEP SLICING: [1 2]\n",
      "\n",
      " REVERSE : [5 4 3 2 1]\n"
     ]
    }
   ],
   "source": [
    "# NumPy slicing: arr[i], arr[i:j], arr[start:stop:step]\n",
    "# 1D ARRAY\n",
    "print(\"\\n ARRAY1:\",arr1)\n",
    "print(\"\\n 3RD ELEMENT IN 1 D :\",arr1[2])\n",
    "print(\"\\n SLICING IN 1D:\",arr1[1:])\n",
    "print(\"\\n START STOP STEP SLICING:\",arr1[0:2:1])\n",
    "print(\"\\n REVERSE :\", arr1[::-1])"
   ]
  },
  {
   "cell_type": "code",
   "execution_count": 9,
   "id": "f4b1b8b5-e501-406d-8077-409ee5e39bc8",
   "metadata": {},
   "outputs": [
    {
     "name": "stdout",
     "output_type": "stream",
     "text": [
      "\n",
      "2D ARRAY :\n",
      " [[1 2 3]\n",
      " [2 3 4]\n",
      " [4 5 6]]\n",
      "\n",
      "2nd row 1st value : 2\n",
      "\n",
      " 3rd COLUMNS: [3 4 6]\n",
      "\n",
      " 2nd ROWS: [2 3 4]\n"
     ]
    }
   ],
   "source": [
    "#For multidim, arr[row, col], arr[:, col], arr[row_slice, col_slice] , arr[row ,:]\n",
    "#2D ARRAY\n",
    "print(\"\\n2D ARRAY :\\n\", arr2)\n",
    "print(\"\\n2nd row 1st value :\",arr2[1,0])\n",
    "print(\"\\n 3rd COLUMNS:\", arr2[:,2])\n",
    "print(\"\\n 2nd ROWS:\",arr2[1,:])\n",
    "\n"
   ]
  },
  {
   "cell_type": "raw",
   "id": "3746eec8-2854-4cf9-93f2-a4b74bfd782d",
   "metadata": {},
   "source": [
    "↑ columns\n",
    "       0   1   2\n",
    "     -------------\n",
    "r 0 | 10  20  30 |\n",
    "o 1 | 40  50  60 |\n",
    "w 2 | 70  80  90 |\n",
    "\n",
    "##### row and column slicing \n",
    "1. arr[row_slice, col_slice] "
   ]
  },
  {
   "cell_type": "code",
   "execution_count": 10,
   "id": "48ec51af-a1bf-4087-96df-61a7056a4111",
   "metadata": {},
   "outputs": [
    {
     "name": "stdout",
     "output_type": "stream",
     "text": [
      "\n",
      " row and column slice:\n",
      " [[1 2]\n",
      " [2 3]]\n",
      "\n",
      " THE ARRAY:\n",
      " [[1 2 3]\n",
      " [2 3 4]\n",
      " [4 5 6]]\n",
      "\n",
      " THE 1st row and 2nd row and 2nd column and 3rd column:\n",
      " [[2 3]\n",
      " [3 4]]\n"
     ]
    }
   ],
   "source": [
    "print(\"\\n row and column slice:\\n\", arr2[0:2,0:2])\n",
    "\n",
    "print(\"\\n THE ARRAY:\\n\",arr2)\n",
    "\n",
    "print(\"\\n THE 1st row and 2nd row and 2nd column and 3rd column:\\n\",arr2[0:2, 1:3])\n",
    "#Boolean indexing: arr[arr > value]"
   ]
  },
  {
   "cell_type": "code",
   "execution_count": 11,
   "id": "975a1629-9a52-4e9c-a53b-b1d73ecc7010",
   "metadata": {},
   "outputs": [
    {
     "name": "stdout",
     "output_type": "stream",
     "text": [
      "3D ARRAY:\n",
      " [[[1 2 3]\n",
      "  [2 3 4]\n",
      "  [4 5 6]]]\n",
      "indexing: 2\n"
     ]
    },
    {
     "data": {
      "text/plain": [
       "array([[[ 1,  2,  3],\n",
       "        [ 2,  3, 10],\n",
       "        [ 4,  5,  6]]])"
      ]
     },
     "execution_count": 11,
     "metadata": {},
     "output_type": "execute_result"
    }
   ],
   "source": [
    "# for 3D\n",
    "print(\"3D ARRAY:\\n\",arr3)\n",
    "\n",
    "# indexing for 3d array\n",
    "print(\"indexing:\",arr3[0,0,1])\n",
    "\n",
    "# changing the value\n",
    "arr3[0,1,2]=10\n",
    "arr3"
   ]
  },
  {
   "cell_type": "code",
   "execution_count": 12,
   "id": "b068acba-c97c-431f-b69d-f471b152d792",
   "metadata": {},
   "outputs": [],
   "source": [
    "#### IMPORTANT : INDEX STARTS WITH 0 "
   ]
  },
  {
   "cell_type": "code",
   "execution_count": 13,
   "id": "d3f72592-c27e-4e2d-9261-19ae05042a09",
   "metadata": {},
   "outputs": [
    {
     "name": "stdout",
     "output_type": "stream",
     "text": [
      "[13  6  3 10 10 16  1  6  6  5]\n",
      "SORTING : [ 1  3  5  6  6  6 10 10 13 16]\n"
     ]
    }
   ],
   "source": [
    "### SORT \n",
    "n10 = np.random.randint(1,20,size=(10,))\n",
    "print(n10)\n",
    "print(\"SORTING :\",np.sort(n10))"
   ]
  },
  {
   "cell_type": "code",
   "execution_count": 14,
   "id": "5f24648f-39be-4b61-99c6-b1f6f05f9d4b",
   "metadata": {},
   "outputs": [
    {
     "data": {
      "text/plain": [
       "array([[1, 2, 5],\n",
       "       [3, 4, 8],\n",
       "       [2, 3, 6]])"
      ]
     },
     "execution_count": 14,
     "metadata": {},
     "output_type": "execute_result"
    }
   ],
   "source": [
    "### 2D array sort == row wise axis = 1 default =1\n",
    "n11= np.array([[1,2,5],[8,4,3],[3,6,2]])\n",
    "n11.sort()\n",
    "n11"
   ]
  },
  {
   "cell_type": "code",
   "execution_count": 15,
   "id": "b5c26e2d-a381-47c8-9ecc-15c975980592",
   "metadata": {},
   "outputs": [
    {
     "data": {
      "text/plain": [
       "array([[1, 2, 5],\n",
       "       [2, 3, 6],\n",
       "       [3, 4, 8]])"
      ]
     },
     "execution_count": 15,
     "metadata": {},
     "output_type": "execute_result"
    }
   ],
   "source": [
    "## to sort column wise -- axis = 0\n",
    "n11.sort(axis=0)\n",
    "n11\n"
   ]
  },
  {
   "cell_type": "markdown",
   "id": "5b7164f0-0a37-4776-acaf-b2a1592af5ac",
   "metadata": {},
   "source": [
    "#### RESHAPE AND ARRAY CONVERSION"
   ]
  },
  {
   "cell_type": "code",
   "execution_count": 16,
   "id": "4d76cdce-7f42-4e6d-a92e-7e7c3342c46b",
   "metadata": {},
   "outputs": [
    {
     "name": "stdout",
     "output_type": "stream",
     "text": [
      "[[13  6]\n",
      " [ 3 10]\n",
      " [10 16]\n",
      " [ 1  6]\n",
      " [ 6  5]]\n",
      "[[[13  6]\n",
      "  [ 3 10]\n",
      "  [10 16]\n",
      "  [ 1  6]\n",
      "  [ 6  5]]]\n",
      "[[13  6  3 10 10 16  1  6  6  5]]\n"
     ]
    },
    {
     "data": {
      "text/plain": [
       "array([[[13,  6],\n",
       "        [ 3, 10],\n",
       "        [10, 16],\n",
       "        [ 1,  6],\n",
       "        [ 6,  5]]], dtype=int32)"
      ]
     },
     "execution_count": 16,
     "metadata": {},
     "output_type": "execute_result"
    }
   ],
   "source": [
    "n12= n10.reshape(5,2)  # np.reshape(row, col)\n",
    "print(n12)\n",
    "n13 = n10.reshape(1,5,2) # np.reshape(block , rows , col)\n",
    "print(n13)\n",
    "print(n10.reshape((1, -1))) # -1 decides the number of columns itself , just need to enter the row number accordingly and -1 calculates the number of columns\n",
    "n10.reshape((5,-1))\n",
    "n10.reshape((1,5,-1))"
   ]
  },
  {
   "cell_type": "code",
   "execution_count": 17,
   "id": "39fa45ce-d089-47b0-abe1-7fa25ad30182",
   "metadata": {},
   "outputs": [
    {
     "data": {
      "text/plain": [
       "array([0, 1, 2, 3, 5, 6, 7, 8])"
      ]
     },
     "execution_count": 17,
     "metadata": {},
     "output_type": "execute_result"
    }
   ],
   "source": [
    "# CONCATENATE (joining two array)\n",
    "\n",
    "n13= np.arange(4)\n",
    "n14 = np.arange(5,9)\n",
    "n15 = np.concatenate((n13,n14))\n",
    "n15"
   ]
  },
  {
   "cell_type": "code",
   "execution_count": 18,
   "id": "2d011d4d-df84-44ec-a436-bebf690ccf54",
   "metadata": {},
   "outputs": [
    {
     "data": {
      "text/plain": [
       "array([1, 2, 3, 4])"
      ]
     },
     "execution_count": 18,
     "metadata": {},
     "output_type": "execute_result"
    }
   ],
   "source": [
    "## flatten() vs ravel() – Convert to 1D\n",
    "# flatten - converts to 1D and does not return  the value\n",
    "# ravel - returns the value\n",
    "a = np.array([[1, 2], [3, 4]])\n",
    "a.flatten()  # Output: array([1, 2, 3, 4])\n",
    "a.ravel()    # Output: array([1, 2, 3, 4])"
   ]
  },
  {
   "cell_type": "code",
   "execution_count": 19,
   "id": "d76ddef4-1df2-4306-ac8d-a94c93f3d4e3",
   "metadata": {},
   "outputs": [
    {
     "data": {
      "text/plain": [
       "array([1, 2, 5, 2, 3, 6, 3, 4, 8])"
      ]
     },
     "execution_count": 19,
     "metadata": {},
     "output_type": "execute_result"
    }
   ],
   "source": [
    "#reshape(-1) – Auto Flatten\n",
    "n11.reshape(-1)\n",
    "# flatten changed its own copy, not original. It creates a copy and does not edit the original\n",
    "# ravel  and reshapes affected the original array, because they returned views. "
   ]
  },
  {
   "cell_type": "code",
   "execution_count": 20,
   "id": "6a61bd39-7aa5-4d03-9ced-4b1395a1cf22",
   "metadata": {},
   "outputs": [
    {
     "data": {
      "text/plain": [
       "[[1, 2], [3, 4]]"
      ]
     },
     "execution_count": 20,
     "metadata": {},
     "output_type": "execute_result"
    }
   ],
   "source": [
    "# to list converts into pythonlists\n",
    "arr = np.array([[1, 2], [3, 4]])\n",
    "arr.tolist()  # Output: [[1, 2], [3, 4]]"
   ]
  },
  {
   "cell_type": "code",
   "execution_count": 21,
   "id": "9c3ac8e4-6731-44ec-98cf-a346495821ad",
   "metadata": {},
   "outputs": [],
   "source": [
    "# astype converts to desired type\n",
    "arr = np.array([1.5, 2.7])\n",
    "arr_int = arr.astype(int)"
   ]
  },
  {
   "cell_type": "code",
   "execution_count": 22,
   "id": "2cb648c3-7e79-4c3e-898d-6eeeeaf8ea56",
   "metadata": {},
   "outputs": [
    {
     "data": {
      "text/plain": [
       "array([1, 2, 3])"
      ]
     },
     "execution_count": 22,
     "metadata": {},
     "output_type": "execute_result"
    }
   ],
   "source": [
    "#np.array() – List to NumPy Array\n",
    "lst = [1, 2, 3]\n",
    "arr = np.array(lst)\n",
    "arr"
   ]
  },
  {
   "cell_type": "code",
   "execution_count": 23,
   "id": "3ff4e48b-1407-4aad-bef0-5ce7b26c4b48",
   "metadata": {},
   "outputs": [
    {
     "data": {
      "text/plain": [
       "array([[1, 2, 3, 1],\n",
       "       [2, 3, 1, 2]])"
      ]
     },
     "execution_count": 23,
     "metadata": {},
     "output_type": "execute_result"
    }
   ],
   "source": [
    "#np.resize() vs reshape()\n",
    "#reshape() only works if the total size matches.\n",
    "#resize() can repeat data or truncate to match size.\n",
    "a = np.array([1, 2, 3])\n",
    "np.resize(a, (2, 4)) "
   ]
  },
  {
   "cell_type": "code",
   "execution_count": 24,
   "id": "5bb39c83-b39f-4bd9-9257-1cf68e6524ed",
   "metadata": {},
   "outputs": [
    {
     "name": "stdout",
     "output_type": "stream",
     "text": [
      "[0 1 2 3 4 5 6 7]\n",
      "[[0 1 2 3 4 5 6 7]]\n",
      "[[0]\n",
      " [1]\n",
      " [2]\n",
      " [3]\n",
      " [4]\n",
      " [5]\n",
      " [6]\n",
      " [7]]\n"
     ]
    }
   ],
   "source": [
    "# newaxis -- to convert 1D to 2D\n",
    "n16 = np.arange(8)\n",
    "print(n16)\n",
    "n17 = n16[np.newaxis,:]\n",
    "print(n17)\n",
    "n18 = n16[:,np.newaxis]\n",
    "print(n18)\n"
   ]
  },
  {
   "cell_type": "code",
   "execution_count": 25,
   "id": "6f9a6e90-90a4-40b0-85a5-6ed00cb8cf3b",
   "metadata": {},
   "outputs": [
    {
     "name": "stdout",
     "output_type": "stream",
     "text": [
      "[[0]\n",
      " [1]\n",
      " [2]\n",
      " [3]\n",
      " [4]\n",
      " [5]\n",
      " [6]\n",
      " [7]]\n",
      "[[0 1 2 3 4 5 6 7]]\n"
     ]
    }
   ],
   "source": [
    "# expand dims\n",
    "n19 = np.expand_dims(n16,axis=1)\n",
    "print(n19)\n",
    "n20 = np.expand_dims(n16,axis=0)\n",
    "print(n20)"
   ]
  },
  {
   "cell_type": "markdown",
   "id": "ec895f33-3c57-4689-8374-4af0843ebf33",
   "metadata": {},
   "source": [
    "#### ADVANCED INDEXING AND SLIICNG"
   ]
  },
  {
   "cell_type": "code",
   "execution_count": 26,
   "id": "ce529d68-14cf-4835-b9a4-7a1c8784d9df",
   "metadata": {},
   "outputs": [
    {
     "name": "stdout",
     "output_type": "stream",
     "text": [
      "[0 1 2 3 4]\n"
     ]
    }
   ],
   "source": [
    "n21 = np.arange(10)\n",
    "n21\n",
    "print(n21[n21<5]) # condition"
   ]
  },
  {
   "cell_type": "code",
   "execution_count": 27,
   "id": "52fc842c-782e-4241-808b-85d0172dcbb4",
   "metadata": {},
   "outputs": [
    {
     "name": "stdout",
     "output_type": "stream",
     "text": [
      "[4 5 6 7 8]\n"
     ]
    }
   ],
   "source": [
    "print(n21[(n21>3) & (n21<9)])"
   ]
  },
  {
   "cell_type": "code",
   "execution_count": 28,
   "id": "170e225f-34ad-476f-a6d6-e1f051278aec",
   "metadata": {},
   "outputs": [
    {
     "name": "stdout",
     "output_type": "stream",
     "text": [
      "[False False False False False False  True  True  True  True]\n",
      "[6 7 8 9]\n"
     ]
    }
   ],
   "source": [
    "five_up = n21>5 # it checks all the elements inside array and stores as boolean and then returns the value that are true\n",
    "print(five_up) \n",
    "print(n21[five_up])"
   ]
  },
  {
   "cell_type": "code",
   "execution_count": 29,
   "id": "7a84e3a8-cbee-49d3-8541-faa721bfb7ba",
   "metadata": {},
   "outputs": [
    {
     "name": "stdout",
     "output_type": "stream",
     "text": [
      "(array([1, 2, 3, 4, 5, 6, 7, 8, 9]),)\n"
     ]
    }
   ],
   "source": [
    "n21[2] = 100\n",
    "print(np.nonzero(n21)) # it gives the index values "
   ]
  },
  {
   "cell_type": "code",
   "execution_count": 30,
   "id": "df060702-355e-49f5-abc8-6719008fa0d9",
   "metadata": {},
   "outputs": [
    {
     "name": "stdout",
     "output_type": "stream",
     "text": [
      "[100   3   4   5   6]\n"
     ]
    }
   ],
   "source": [
    "print(n21[2:7])"
   ]
  },
  {
   "cell_type": "markdown",
   "id": "21cd8583-34bd-42b3-89f8-d65797e3c95f",
   "metadata": {},
   "source": [
    "#### STACK AND SPLIT"
   ]
  },
  {
   "cell_type": "code",
   "execution_count": 31,
   "id": "bfe22587-71f6-431c-96b1-a1a3caa31cd6",
   "metadata": {},
   "outputs": [
    {
     "data": {
      "text/plain": [
       "array([[1, 2, 5, 6],\n",
       "       [3, 4, 7, 8]])"
      ]
     },
     "execution_count": 31,
     "metadata": {},
     "output_type": "execute_result"
    }
   ],
   "source": [
    "n22 = np.array([[1,2],[3,4]])\n",
    "n23 = np.array([[5,6],[7,8]])\n",
    "np.vstack((n22,n23)) # vertical stacking\n",
    "np.hstack((n22,n23))"
   ]
  },
  {
   "cell_type": "code",
   "execution_count": 33,
   "id": "cb32c7db-58a4-45ec-9079-3a9ba947d97f",
   "metadata": {},
   "outputs": [
    {
     "data": {
      "text/plain": [
       "[array([1, 2, 3, 4, 5]),\n",
       " array([ 6,  7,  8,  9, 10]),\n",
       " array([11, 12, 13, 14, 15]),\n",
       " array([16, 17, 18, 19, 20])]"
      ]
     },
     "execution_count": 33,
     "metadata": {},
     "output_type": "execute_result"
    }
   ],
   "source": [
    "n24 = np.arange(1,21)\n",
    "np.hsplit(n24 ,4) # it splits array into 4 different array \n",
    "# vsplit works for 3d conditions or 2d array only"
   ]
  },
  {
   "cell_type": "code",
   "execution_count": 34,
   "id": "2413d307-9be2-435d-8480-e1b26dea6666",
   "metadata": {},
   "outputs": [
    {
     "name": "stdout",
     "output_type": "stream",
     "text": [
      "[100   2   3   4   5   6   7   8   9  10  11  12  13  14  15  16  17  18\n",
      "  19  20]\n",
      "[100   2   3   4   5   6   7   8   9  10  11  12  13  14  15  16  17  18\n",
      "  19  20]\n"
     ]
    }
   ],
   "source": [
    "#### SHALLOW COPY \n",
    "n25 = n24  # it copies the reference and hence changes in one array affects the other # only one array \n",
    "n25[0] = 100\n",
    "print(n25)\n",
    "print(n24)"
   ]
  },
  {
   "cell_type": "code",
   "execution_count": 35,
   "id": "cbedfaff-e29d-4ff4-a00d-1c8a4d4cf55c",
   "metadata": {},
   "outputs": [
    {
     "name": "stdout",
     "output_type": "stream",
     "text": [
      "[200   2   3   4   5   6   7   8   9  10  11  12  13  14  15  16  17  18\n",
      "  19  20]\n",
      "[100   2   3   4   5   6   7   8   9  10  11  12  13  14  15  16  17  18\n",
      "  19  20]\n"
     ]
    }
   ],
   "source": [
    "#### DEEP COPY\n",
    "n26 = n24.copy() # it creates a new copy and then alters the array \n",
    "n24[0]=200\n",
    "print(n24)\n",
    "print(n26)"
   ]
  },
  {
   "cell_type": "markdown",
   "id": "ac3e406c-46d2-4a71-9516-834093c5ea40",
   "metadata": {},
   "source": [
    "#### MATH"
   ]
  },
  {
   "cell_type": "code",
   "execution_count": 36,
   "id": "52f7a7be-d9e8-4d8d-bd0b-0f0716c741cf",
   "metadata": {},
   "outputs": [
    {
     "name": "stdout",
     "output_type": "stream",
     "text": [
      "[200   2   3   4   5   6   7   8   9  10  11  12  13  14  15  16  17  18\n",
      "  19  20]\n",
      "[100   2   3   4   5   6   7   8   9  10  11  12  13  14  15  16  17  18\n",
      "  19  20]\n",
      "[300   4   6   8  10  12  14  16  18  20  22  24  26  28  30  32  34  36\n",
      "  38  40]\n"
     ]
    }
   ],
   "source": [
    "print(n24)\n",
    "print(n26)\n",
    "print(n24+n26) #adds element with the ellement in other matrices"
   ]
  },
  {
   "cell_type": "code",
   "execution_count": 37,
   "id": "d5c7bac2-e639-48a9-9ddf-276abb45c566",
   "metadata": {},
   "outputs": [
    {
     "name": "stdout",
     "output_type": "stream",
     "text": [
      "[400   4   6   8  10  12  14  16  18  20  22  24  26  28  30  32  34  36\n",
      "  38  40]\n"
     ]
    }
   ],
   "source": [
    "print(n24 *2)"
   ]
  },
  {
   "cell_type": "code",
   "execution_count": 38,
   "id": "c6ccc46b-bb2f-4c14-89f5-a4ec324721f7",
   "metadata": {},
   "outputs": [
    {
     "name": "stdout",
     "output_type": "stream",
     "text": [
      "309\n",
      "100\n",
      "2\n",
      "20.118337406455833\n",
      "15.45\n"
     ]
    }
   ],
   "source": [
    "print(n26.sum())\n",
    "print(n26.max())\n",
    "print(n26.min())\n",
    "print(n26.std())\n",
    "print(n26.mean())"
   ]
  }
 ],
 "metadata": {
  "kernelspec": {
   "display_name": "Python 3 (ipykernel)",
   "language": "python",
   "name": "python3"
  },
  "language_info": {
   "codemirror_mode": {
    "name": "ipython",
    "version": 3
   },
   "file_extension": ".py",
   "mimetype": "text/x-python",
   "name": "python",
   "nbconvert_exporter": "python",
   "pygments_lexer": "ipython3",
   "version": "3.13.2"
  }
 },
 "nbformat": 4,
 "nbformat_minor": 5
}
