{
 "cells": [
  {
   "cell_type": "markdown",
   "id": "1910df42-d1ae-48a2-9673-abd168b64c9f",
   "metadata": {},
   "source": [
    "#### PYTHON IS HIGH LEVEL INTREPRETED LANGUAGE AND IS A MULTIPARADIGM LANGUAGE\n",
    "#### PYTHON IS A SIMPLE AND EASY LANGUAGE"
   ]
  },
  {
   "cell_type": "markdown",
   "id": "f5aac5d2-67be-4098-93f2-46eda622e2f0",
   "metadata": {},
   "source": [
    "#### DATA TYPES\n",
    "1. int , float and complex --- number data types\n",
    "2. str --- character datatype\n",
    "3. bool --- True or False\n",
    "4. none --- null data types"
   ]
  },
  {
   "cell_type": "markdown",
   "id": "e1a84398-89ac-4262-bec8-b99f5e0e1e22",
   "metadata": {},
   "source": [
    "#### DATA STRUCTURES\n",
    "1. List  ordered and mutable\n",
    "2. tuple orderd and immutable\n",
    "3. set unordered and consist of elements that are hashable and so set contains objects that are immutable and set itself is unhashable (mutable)\n",
    "4. dictionary has key value pairs and is unordered"
   ]
  },
  {
   "cell_type": "code",
   "execution_count": 55,
   "id": "2747d03a-8831-46e2-a761-0104a8351761",
   "metadata": {},
   "outputs": [],
   "source": [
    "a=['apple','guava','mango']\n",
    "a.append('cherry')"
   ]
  },
  {
   "cell_type": "code",
   "execution_count": 56,
   "id": "dfeb769c-9347-4a07-a1bc-dd9368af12fa",
   "metadata": {},
   "outputs": [
    {
     "name": "stdout",
     "output_type": "stream",
     "text": [
      "dict_values([2022])\n",
      "dict_values([2025])\n",
      "dict_values([2025])\n"
     ]
    }
   ],
   "source": [
    "b={\"Cinnamon girl\":{\"Lana del rey\":2022},\"let the world burn\":{\"XXXX\":2025},\"Cry for me\":{\"Weekend\":2025}}\n",
    "for i, j in b.items():\n",
    "    print(j.values())"
   ]
  },
  {
   "cell_type": "raw",
   "id": "6e85125a-d26d-430d-8558-7937a5f2a319",
   "metadata": {},
   "source": [
    "for key in student:\n",
    "    print(key, student[key])\n",
    "\n",
    "\n",
    "for key, value in student.items():\n",
    "    print(key, value)\n"
   ]
  },
  {
   "cell_type": "markdown",
   "id": "d906e2bd-6304-45ee-8445-fdc99c1b786c",
   "metadata": {},
   "source": [
    "#### FUNCTIONS\n",
    "1. functions are block of reusable code\n",
    "2. user defined and built in functions"
   ]
  },
  {
   "cell_type": "code",
   "execution_count": 57,
   "id": "e132e5a1-d757-48ad-981d-a40e0e385ddc",
   "metadata": {},
   "outputs": [
    {
     "name": "stdout",
     "output_type": "stream",
     "text": [
      "Welcome to function\n"
     ]
    }
   ],
   "source": [
    "def name():\n",
    "    print(\"Welcome to function\")\n",
    "name() # call function"
   ]
  },
  {
   "cell_type": "code",
   "execution_count": 58,
   "id": "f8b88a35-45ff-4cc4-bab4-950a6ade241b",
   "metadata": {},
   "outputs": [
    {
     "name": "stdout",
     "output_type": "stream",
     "text": [
      "hello Sharmila, welcome!\n"
     ]
    }
   ],
   "source": [
    "# arguments\n",
    "def name(na):\n",
    "    print(f\"hello {na}, welcome!\")\n",
    "name(\"Sharmila\") # passing arguments to the function"
   ]
  },
  {
   "cell_type": "code",
   "execution_count": 59,
   "id": "fd0d2459-1734-49b0-95c6-34af8763cc92",
   "metadata": {},
   "outputs": [
    {
     "name": "stdout",
     "output_type": "stream",
     "text": [
      "19\n"
     ]
    }
   ],
   "source": [
    "def add(a,b):\n",
    "    print(a+b)\n",
    "add(9,10)"
   ]
  },
  {
   "cell_type": "code",
   "execution_count": 60,
   "id": "f6d11831-5e7f-4cc5-9712-75d0b3741dbc",
   "metadata": {},
   "outputs": [
    {
     "name": "stdout",
     "output_type": "stream",
     "text": [
      "19\n"
     ]
    }
   ],
   "source": [
    "def add(a,b):\n",
    "    return a+b  # can be used if we are assigning some other value or function\n",
    "result= add(9,10)\n",
    "print(result)"
   ]
  },
  {
   "cell_type": "code",
   "execution_count": 61,
   "id": "6b25e2ef-336d-49b3-8396-96e4cfa494db",
   "metadata": {},
   "outputs": [
    {
     "name": "stdout",
     "output_type": "stream",
     "text": [
      "25\n"
     ]
    }
   ],
   "source": [
    "# (from test.py import add) to call this function for using this functionin another file\n",
    "# *args and **kwargs\n",
    "def add(*args):\n",
    "    total=0\n",
    "    for num in args:\n",
    "        total+=num\n",
    "    return total\n",
    "result= add(0,1,2,4,5,6,7)\n",
    "print(result)\n"
   ]
  },
  {
   "cell_type": "code",
   "execution_count": 62,
   "id": "0df6bad4-b69d-468f-88ec-cebfc50313d5",
   "metadata": {},
   "outputs": [
    {
     "name": "stdout",
     "output_type": "stream",
     "text": [
      "User profile\n",
      "name : Sam\n",
      "age : 22\n",
      "job : data analyst\n"
     ]
    }
   ],
   "source": [
    "#kwargs\n",
    "def create(**kwargs):\n",
    "    print(\"User profile\")\n",
    "    for key , value in kwargs.items():\n",
    "        print(f\"{key} : {value}\")\n",
    "create(name=\"Sam\",age=22,job=\"data analyst\")\n"
   ]
  },
  {
   "cell_type": "markdown",
   "id": "cc793864-50dc-4745-a8d2-a7550d0ab269",
   "metadata": {},
   "source": [
    "#### LIST AND LIST METHODS"
   ]
  },
  {
   "cell_type": "code",
   "execution_count": 63,
   "id": "6bd81144-e177-403d-bb77-c7cff73aa87b",
   "metadata": {},
   "outputs": [
    {
     "data": {
      "text/plain": [
       "[1, 2, 4, 5, 7, 8]"
      ]
     },
     "execution_count": 63,
     "metadata": {},
     "output_type": "execute_result"
    }
   ],
   "source": [
    "# 1. append -- adds an element at the end of the list\n",
    "numbers =[1,2,4,5,7]\n",
    "numbers.append(8)\n",
    "numbers"
   ]
  },
  {
   "cell_type": "code",
   "execution_count": 64,
   "id": "bba565b0-89c5-4d44-908b-da1a84a75e01",
   "metadata": {},
   "outputs": [
    {
     "data": {
      "text/plain": [
       "[1, 2, 3, 4, 5, 7]"
      ]
     },
     "execution_count": 64,
     "metadata": {},
     "output_type": "execute_result"
    }
   ],
   "source": [
    "# 2. insert -- adds element to the particular position\n",
    "num = [1,2,4,5,7]\n",
    "num.insert(2,3)\n",
    "num"
   ]
  },
  {
   "cell_type": "code",
   "execution_count": 65,
   "id": "b3a06b0f-4e0d-4cb8-a4b7-aeea577ff31b",
   "metadata": {},
   "outputs": [
    {
     "data": {
      "text/plain": [
       "[1, 4, 5, 7]"
      ]
     },
     "execution_count": 65,
     "metadata": {},
     "output_type": "execute_result"
    }
   ],
   "source": [
    "# 3. remove \n",
    "num = [1,2,4,5,7]\n",
    "num.remove(2) # particular element\n",
    "num"
   ]
  },
  {
   "cell_type": "code",
   "execution_count": 66,
   "id": "d7ceeabe-fb4c-41a8-bbfd-4d56f3874cf0",
   "metadata": {},
   "outputs": [
    {
     "data": {
      "text/plain": [
       "[1, 2, 4, 5]"
      ]
     },
     "execution_count": 66,
     "metadata": {},
     "output_type": "execute_result"
    }
   ],
   "source": [
    "# 4. pop --- deletes the last element\n",
    "num = [1,2,4,5,7]\n",
    "num.pop()\n",
    "num"
   ]
  },
  {
   "cell_type": "code",
   "execution_count": 67,
   "id": "f8d898d8-8472-4692-b8ab-aa6a1c28e471",
   "metadata": {},
   "outputs": [
    {
     "data": {
      "text/plain": [
       "[7, 5, 4, 2, 1]"
      ]
     },
     "execution_count": 67,
     "metadata": {},
     "output_type": "execute_result"
    }
   ],
   "source": [
    "# 5. reverse\n",
    "num = [1,2,4,5,7]\n",
    "num.reverse()\n",
    "num"
   ]
  },
  {
   "cell_type": "code",
   "execution_count": 68,
   "id": "387a64c0-fa51-4ad2-9ed1-2560bd746f35",
   "metadata": {},
   "outputs": [
    {
     "data": {
      "text/plain": [
       "1"
      ]
     },
     "execution_count": 68,
     "metadata": {},
     "output_type": "execute_result"
    }
   ],
   "source": [
    "# count === it gives the count of an element\n",
    "num = [1,2,4,5,7]\n",
    "num.count(2)\n"
   ]
  },
  {
   "cell_type": "markdown",
   "id": "d0408ff6-5f7c-479e-b271-c6fd309ffec2",
   "metadata": {},
   "source": [
    "###  `append(x)`\n",
    "> Adds an item to the **end** of the list.\n",
    "    \n",
    "fruits = ['apple', 'banana']\n",
    "fruits.append('orange')  # ['apple', 'banana', 'orange']\n",
    "\n",
    "###  `insert(index, x)`\n",
    "\n",
    "> Inserts an item at a **specific position**.\n",
    "\n",
    "fruits.insert(1, 'grape')  # ['apple', 'grape', 'banana']\n",
    "\n",
    "###  `extend(iterable)`\n",
    "\n",
    "> Adds elements from another list (or iterable) to the end.\n",
    "\n",
    "a = [1, 2]\n",
    "b = [3, 4]\n",
    "a.extend(b)  # [1, 2, 3, 4]\n",
    "\n",
    "###  `remove(x)`\n",
    "\n",
    "> Removes the **first occurrence** of a value.\n",
    "\n",
    "fruits = ['apple', 'banana', 'apple']\n",
    "fruits.remove('apple')  # ['banana', 'apple']\n",
    "\n",
    "\n",
    "###  `pop([index])`\n",
    "\n",
    "> Removes and returns item at index. If index not given, removes last item.\n",
    "\n",
    "nums = [10, 20, 30]\n",
    "nums.pop()       # Returns 30\n",
    "nums.pop(0)      # Returns 10\n",
    "\n",
    "###  `clear()`\n",
    "\n",
    "> Removes **all elements** from the list.\n",
    "\n",
    "nums = [1, 2, 3]\n",
    "nums.clear()  # []\n",
    "\n",
    "### `index(x)`\n",
    "\n",
    "> Returns the **first index** of value `x`.\n",
    "\n",
    "colors = ['red', 'green', 'blue']\n",
    "colors.index('green')  # 1\n",
    "\n",
    "###  `count(x)`\n",
    "\n",
    "> Returns how many times `x` appears in the list.\n",
    "\n",
    "[1, 2, 2, 3].count(2)  # 2\n",
    "\n",
    "###  `sort(reverse=False)`\n",
    "\n",
    "> Sorts the list in **ascending** order. Use `reverse=True` for descending.\n",
    "\n",
    "nums = [3, 1, 4]\n",
    "nums.sort()            # [1, 3, 4]\n",
    "nums.sort(reverse=True)  # [4, 3, 1]\n",
    "\n",
    "###  `reverse()`\n",
    "\n",
    "> Reverses the list **in-place**.\n",
    "\n",
    "nums = [1, 2, 3]\n",
    "nums.reverse()  # [3, 2, 1]\n",
    "\n",
    "###  `copy()`\n",
    "\n",
    "> Returns a **shallow copy** of the list.\n",
    "\n",
    "a = [1, 2, 3]\n",
    "b = a.copy()  # b = [1, 2, 3]\n",
    "\n",
    "### `zip()` Function\n",
    "\n",
    "> Combines two or more iterables (like lists or tuples) **element-wise** into pairs (or tuples).\n",
    "\n",
    "zip(iterable1, iterable2, ...)\n",
    "\n",
    "###  Example:\n",
    "\n",
    "names = ['Sharmila', 'Ravi', 'Meena']\n",
    "scores = [95, 88, 76]\n",
    "\n",
    "zipped = list(zip(names, scores))\n",
    "print(zipped)\n",
    "[('Sharmila', 95), ('Ravi', 88), ('Meena', 76)]\n",
    "\n",
    "\n",
    "You can **unpack** it using:\n",
    "\n",
    "for name, score in zip(names, scores):\n",
    "    print(name, score)\n",
    "\n",
    "\n",
    "##  Merge Two Lists into a Dictionary\n",
    "\n",
    "###  Method: Using `zip()` + `dict()`\n",
    "\n",
    "keys = ['name', 'age', 'course']\n",
    "values = ['Sharmila', 21, 'Python']\n",
    "\n",
    "merged_dict = dict(zip(keys, values))\n",
    "print(merged_dict)\n",
    "\n",
    "\n",
    "###  Output:\n",
    "\n",
    "{'name': 'Sharmila', 'age': 21, 'course': 'Python'}\n",
    "\n",
    "##  Merge Two Dictionaries\n",
    "\n",
    "a = {'x': 1, 'y': 2}\n",
    "b = {'y': 10, 'z': 3}\n",
    "merged = a | b\n",
    "print(merged)\n",
    "\n",
    "{'x': 1, 'y': 10, 'z': 3}\n"
   ]
  },
  {
   "cell_type": "code",
   "execution_count": 69,
   "id": "7441974d-5170-472e-a220-9022b921e7be",
   "metadata": {},
   "outputs": [
    {
     "data": {
      "text/plain": [
       "{'Name': 'Sharmila',\n",
       " 'age': 22,\n",
       " 'job': 'data analyst',\n",
       " 'height': 157,\n",
       " 'weight': 45}"
      ]
     },
     "execution_count": 69,
     "metadata": {},
     "output_type": "execute_result"
    }
   ],
   "source": [
    "a = ['Name', 'age', 'job', 'height','weight']\n",
    "b= [\"Sharmila\" , 22, \"data analyst\",157, 45]\n",
    "c= dict(zip(a,b))\n",
    "c"
   ]
  },
  {
   "cell_type": "code",
   "execution_count": 70,
   "id": "236c326c-ed1d-4a12-9187-3968bb6aa74e",
   "metadata": {},
   "outputs": [
    {
     "data": {
      "text/plain": [
       "[('Name', 'Sharmila'),\n",
       " ('age', 22),\n",
       " ('job', 'data analyst'),\n",
       " ('height', 157),\n",
       " ('weight', 45)]"
      ]
     },
     "execution_count": 70,
     "metadata": {},
     "output_type": "execute_result"
    }
   ],
   "source": [
    "a = ['Name', 'age', 'job', 'height','weight']\n",
    "b= [\"Sharmila\" , 22, \"data analyst\",157, 45]\n",
    "c= list(zip(a,b))\n",
    "c"
   ]
  },
  {
   "cell_type": "code",
   "execution_count": 71,
   "id": "42814a2d-9ffb-4469-a198-bc200d08f89a",
   "metadata": {},
   "outputs": [
    {
     "name": "stdout",
     "output_type": "stream",
     "text": [
      "Name Sharmila\n",
      "age 22\n",
      "job data analyst\n",
      "height 157\n",
      "weight 45\n"
     ]
    }
   ],
   "source": [
    "c= dict(zip(a,b))\n",
    "for label , values in c.items():\n",
    "    print(label , values)"
   ]
  },
  {
   "cell_type": "code",
   "execution_count": 72,
   "id": "7e3b42ff-db1c-4e34-9b8b-bda07e1ee4bb",
   "metadata": {},
   "outputs": [],
   "source": [
    "# sorted() (returns a new sorted list)\n",
    "# Unlike list.sort(), it doesn't modify the original list.\n",
    "a=[1,2,3,45,0,-1,-2,-7]\n",
    "sorted(a) # does not modify the original list\n",
    "a.sort() # modifies original list"
   ]
  },
  {
   "cell_type": "code",
   "execution_count": 73,
   "id": "d8a45bf4-4122-46f3-ba7d-1d7327d51fd7",
   "metadata": {},
   "outputs": [
    {
     "name": "stdout",
     "output_type": "stream",
     "text": [
      "0 a\n",
      "1 b\n",
      "2 c\n"
     ]
    }
   ],
   "source": [
    "# enumerate() (index + value in loops)\n",
    "for i, value in enumerate(['a', 'b', 'c']):\n",
    "    print(i, value)"
   ]
  },
  {
   "cell_type": "code",
   "execution_count": 74,
   "id": "4866e6c9-7b2d-4d01-b37a-e81698d5db37",
   "metadata": {},
   "outputs": [
    {
     "data": {
      "text/plain": [
       "[1, 2, 3, 4, 5, 8, 9, 0, 11, 12]"
      ]
     },
     "execution_count": 74,
     "metadata": {},
     "output_type": "execute_result"
    }
   ],
   "source": [
    "# # lists\n",
    "# elements can be added in list\n",
    "# list are ordered (based on index)\n",
    "# mutable (can make changes in the list)\n",
    "# can have multiple data types\n",
    "# extend --- it adds a list at the end \n",
    "a=[1,2,3,4,5]\n",
    "b=[8,9,0,11,12]\n",
    "a.extend(b)\n",
    "a"
   ]
  },
  {
   "cell_type": "code",
   "execution_count": 75,
   "id": "b81211f5-b57f-4488-b02e-5cb1c6797e54",
   "metadata": {},
   "outputs": [
    {
     "data": {
      "text/plain": [
       "[2, 3, 4, 5]"
      ]
     },
     "execution_count": 75,
     "metadata": {},
     "output_type": "execute_result"
    }
   ],
   "source": [
    "# slicing (start : stop : step)\n",
    "a[::-1] # reverse\n",
    "a[1:5:1]"
   ]
  },
  {
   "cell_type": "code",
   "execution_count": 76,
   "id": "a6e434f7-7d84-4be6-a27f-5c6168edd585",
   "metadata": {},
   "outputs": [
    {
     "name": "stdout",
     "output_type": "stream",
     "text": [
      "Briyani\n",
      "paneer tikka\n",
      "Alfaham chicken\n",
      "Paneer Butter masala\n"
     ]
    }
   ],
   "source": [
    "# LIST ITERATION\n",
    "food = [\"Briyani\" ,\"paneer tikka\" , \"Alfaham chicken\" , \"Paneer Butter masala\"]\n",
    "for f in food:\n",
    "    print(f)"
   ]
  },
  {
   "cell_type": "code",
   "execution_count": 77,
   "id": "5e3526eb-8f3a-4077-a40b-8e7eb073fa18",
   "metadata": {},
   "outputs": [
    {
     "name": "stdout",
     "output_type": "stream",
     "text": [
      "Weeknd:Good for you\n",
      "Lana del Rey:YAD\n",
      "Lana Del Rey:Summertime sadness\n",
      "Vanna Rainella:Young and beautiful\n",
      "Selena Gomez:Cry for me\n"
     ]
    }
   ],
   "source": [
    "# to merge two list with for loop consider length of list or zip of lists\n",
    "singer = [\"Weeknd\" ,\"Lana del Rey\" ,\"Lana Del Rey\" ,\"Vanna Rainella\" ,\"Selena Gomez\"]\n",
    "playlist= [\"Good for you\" ,\"YAD\" ,\"Summertime sadness\" ,\"Young and beautiful\",\"Cry for me\"]\n",
    "for i in range(len(singer)):\n",
    "    print(f\"{singer[i]}:{playlist[i]}\")\n",
    "    "
   ]
  },
  {
   "cell_type": "code",
   "execution_count": 78,
   "id": "155367b4-b362-4ec2-bb2d-af6633533e01",
   "metadata": {},
   "outputs": [
    {
     "data": {
      "text/plain": [
       "['Weeknd:Good for you',\n",
       " 'Lana del Rey:YAD',\n",
       " 'Lana Del Rey:Summertime sadness',\n",
       " 'Vanna Rainella:Young and beautiful',\n",
       " 'Selena Gomez:Cry for me']"
      ]
     },
     "execution_count": 78,
     "metadata": {},
     "output_type": "execute_result"
    }
   ],
   "source": [
    "singer = [\"Weeknd\" ,\"Lana del Rey\" ,\"Lana Del Rey\" ,\"Vanna Rainella\" ,\"Selena Gomez\"]\n",
    "playlist= [\"Good for you\" ,\"YAD\" ,\"Summertime sadness\" ,\"Young and beautiful\",\"Cry for me\"]\n",
    "merged = [f\"{i}:{j}\" for i, j in list(zip(singer,playlist))]\n",
    "merged"
   ]
  },
  {
   "cell_type": "markdown",
   "id": "2ec59afc-3b50-49a0-af38-52426061b4c2",
   "metadata": {},
   "source": [
    "#### LIST COMPREHENSION\n",
    "\n",
    "> [expression + for item in iterable]   [i**2  + for i in range (0,10)]\n"
   ]
  },
  {
   "cell_type": "code",
   "execution_count": 79,
   "id": "e8be390e-8e42-4944-a323-159103b49388",
   "metadata": {},
   "outputs": [
    {
     "data": {
      "text/plain": [
       "[0, 1, 4, 9, 16, 25, 36, 49, 64, 81]"
      ]
     },
     "execution_count": 79,
     "metadata": {},
     "output_type": "execute_result"
    }
   ],
   "source": [
    "# squares of a number\n",
    "squares = [x**2 for x in range (0,10)]\n",
    "squares"
   ]
  },
  {
   "cell_type": "markdown",
   "id": "01ff0f47-4888-475e-8742-b018e4b43a8f",
   "metadata": {},
   "source": [
    "> [expression  + for item in iterable + if condition]\n",
    "> Example : [i**3 + for i in range (0,10) + if i%3==0]\n"
   ]
  },
  {
   "cell_type": "code",
   "execution_count": 80,
   "id": "d0f03527-7794-4e4c-a6cb-4e0675ba3b7c",
   "metadata": {},
   "outputs": [
    {
     "data": {
      "text/plain": [
       "[0, 1, 4, 9, 16, 25, 36, 49, 64, 81]"
      ]
     },
     "execution_count": 80,
     "metadata": {},
     "output_type": "execute_result"
    }
   ],
   "source": [
    "# squares of a number only if the number is even\n",
    "sq_eve = [x**2 for x in range (0,10) if i%2==0]\n",
    "sq_eve"
   ]
  },
  {
   "cell_type": "markdown",
   "id": "6a3ee341-5505-4f3b-92ef-f6c605ccb10b",
   "metadata": {},
   "source": [
    "> [expression_ + if_true + if condition + else expression_+ if_false for item in iterable]\n",
    "> [i**2 + if i%2==0 + else i**3 + for i in range (0,10)]\n"
   ]
  },
  {
   "cell_type": "code",
   "execution_count": 81,
   "id": "3b02776a-aa7a-47e2-986a-f2bafa809c25",
   "metadata": {},
   "outputs": [
    {
     "data": {
      "text/plain": [
       "[0, 1, 4, 27, 16, 125, 36, 343, 64, 729, 100, 1331, 144, 2197, 196]"
      ]
     },
     "execution_count": 81,
     "metadata": {},
     "output_type": "execute_result"
    }
   ],
   "source": [
    "# squares if even else cubes \n",
    "sq_cu = [x**2 if x%2==0 else x**3 for x in range(0,15)]\n",
    "sq_cu"
   ]
  },
  {
   "cell_type": "markdown",
   "id": "af67e0d7-5700-4c6d-a490-43bd5d2e5612",
   "metadata": {},
   "source": [
    "> [expression_if_true + if condition + else expression_if_false + for item in iterable + if filter_condition]"
   ]
  },
  {
   "cell_type": "code",
   "execution_count": 82,
   "id": "b32dc3cf-5b38-4643-948a-b2da6f780a47",
   "metadata": {},
   "outputs": [
    {
     "data": {
      "text/plain": [
       "[0, 4, 27, 16, 36, 64, 729, 100, 144, 196]"
      ]
     },
     "execution_count": 82,
     "metadata": {},
     "output_type": "execute_result"
    }
   ],
   "source": [
    "# squares if x is divided by 2 cubes if x is divided by 3\n",
    "sq_cu = [x**2 if x%2==0 else x**3 for x in range (0,15) if x%2==0 or x%3==0]\n",
    "sq_cu"
   ]
  },
  {
   "cell_type": "markdown",
   "id": "dedabbcb-f7cb-4545-92f0-dd18a15468de",
   "metadata": {},
   "source": [
    "####  PROBLEMS FOR LIST AND LIST COMPREHENSION"
   ]
  },
  {
   "cell_type": "code",
   "execution_count": 83,
   "id": "8136285b-f377-43b0-a5ed-2d3b5ec40da0",
   "metadata": {},
   "outputs": [
    {
     "data": {
      "text/plain": [
       "[4, 16, 36]"
      ]
     },
     "execution_count": 83,
     "metadata": {},
     "output_type": "execute_result"
    }
   ],
   "source": [
    "# Filter and Square the Even Numbers\n",
    "# Given a list of integers, use list comprehension to extract only the even numbers and return their squares.\n",
    "# Example input:\n",
    "nums = [1, 2, 3, 4, 5, 6]\n",
    "sq= [x**2 for x in nums if x%2==0]\n",
    "sq"
   ]
  },
  {
   "cell_type": "code",
   "execution_count": 84,
   "id": "ac545184-4648-459a-9142-1afcbb9984f6",
   "metadata": {},
   "outputs": [
    {
     "data": {
      "text/plain": [
       "[(1, 2), (1, 3), (2, 3)]"
      ]
     },
     "execution_count": 84,
     "metadata": {},
     "output_type": "execute_result"
    }
   ],
   "source": [
    "# 2. Create Pairs from Two Lists\n",
    "#Given two lists, use list comprehension to return a list of all pairs (tuples) where the first element is from list1 and the\n",
    "# second is from list2 but not equal.\n",
    "list1 = [1, 2]\n",
    "list2 = [2, 3]\n",
    "sq=[]\n",
    "for i in range (0,len(list1)):\n",
    "    for x, y in list(zip(list1,list2)):\n",
    "        if list1[i]!=y:\n",
    "            sq.append((list1[i],y))\n",
    "sq"
   ]
  },
  {
   "cell_type": "code",
   "execution_count": 85,
   "id": "d31a3b61-3f41-4ace-ac46-b8f96cbcfd22",
   "metadata": {},
   "outputs": [
    {
     "data": {
      "text/plain": [
       "[(1, 2), (1, 3), (2, 3)]"
      ]
     },
     "execution_count": 85,
     "metadata": {},
     "output_type": "execute_result"
    }
   ],
   "source": [
    "sq= [(x,y) for x in list1 for y in list2 if x!=y ]\n",
    "sq"
   ]
  },
  {
   "cell_type": "code",
   "execution_count": 86,
   "id": "641ab6eb-f92c-482b-b77d-7bf88b7c2bce",
   "metadata": {},
   "outputs": [
    {
     "data": {
      "text/plain": [
       "['banana', 'kiwi', 'pear']"
      ]
     },
     "execution_count": 86,
     "metadata": {},
     "output_type": "execute_result"
    }
   ],
   "source": [
    "# 3. Find Words with Even Length\n",
    "# From a list of words, use list comprehension to return only the words with an even number of characters.\n",
    "words = [\"apple\", \"banana\", \"kiwi\", \"pear\", \"grape\"]\n",
    "wor = [ word for word in words if len(word) %2 ==0]\n",
    "wor"
   ]
  },
  {
   "cell_type": "code",
   "execution_count": 87,
   "id": "f956f325-a51d-4bef-9625-25f79a51d01b",
   "metadata": {},
   "outputs": [
    {
     "name": "stdout",
     "output_type": "stream",
     "text": [
      "[1, 2, 3, 4, 5, 6]\n"
     ]
    }
   ],
   "source": [
    "# 4. Flatten a Nested List\n",
    "# Given a nested list (2D list), use list comprehension to flatten it into a single list.\n",
    "nested = [[1, 2], [3, 4], [5, 6]]\n",
    "single = []\n",
    "for i in nested:\n",
    "    for j in i:\n",
    "        single.append(j)\n",
    "print(single)"
   ]
  },
  {
   "cell_type": "code",
   "execution_count": 88,
   "id": "fa75bba2-5386-40d6-95d4-fcba940cd6cd",
   "metadata": {},
   "outputs": [
    {
     "data": {
      "text/plain": [
       "[1, 2, 3, 4, 5, 6]"
      ]
     },
     "execution_count": 88,
     "metadata": {},
     "output_type": "execute_result"
    }
   ],
   "source": [
    "single = [j for i in nested for j in i]\n",
    "single"
   ]
  },
  {
   "cell_type": "code",
   "execution_count": 89,
   "id": "0a13e9e4-3470-425d-976c-d9ac48e48256",
   "metadata": {},
   "outputs": [
    {
     "data": {
      "text/plain": [
       "[0, 5, 0, 7, 0]"
      ]
     },
     "execution_count": 89,
     "metadata": {},
     "output_type": "execute_result"
    }
   ],
   "source": [
    "# 5. Replace Negative Numbers with Zero\n",
    "# Given a list of integers, use list comprehension to replace all negative numbers with 0.\n",
    "nums = [-3, 5, -1, 7, -9]\n",
    "n = [0 if x<0 else x for x in nums]\n",
    "n"
   ]
  },
  {
   "cell_type": "code",
   "execution_count": 90,
   "id": "befa7304-1361-49b4-81bf-33bb3b5f7d24",
   "metadata": {},
   "outputs": [
    {
     "data": {
      "text/plain": [
       "[1, 2, 3, 4, 5, 6]"
      ]
     },
     "execution_count": 90,
     "metadata": {},
     "output_type": "execute_result"
    }
   ],
   "source": [
    "# 6.  Problem:\n",
    "# Given a nested list (only one level deep), flatten it using list comprehension.\n",
    "nested = [[1, 2], [3, 4], [5, 6]]\n",
    "flatten = [x for y in nested for x in y]\n",
    "flatten"
   ]
  },
  {
   "cell_type": "code",
   "execution_count": 91,
   "id": "b6d7d242-9508-479d-b6a7-7b5791530892",
   "metadata": {},
   "outputs": [
    {
     "data": {
      "text/plain": [
       "[1, 4, 27, 16, 125]"
      ]
     },
     "execution_count": 91,
     "metadata": {},
     "output_type": "execute_result"
    }
   ],
   "source": [
    "# # Problem:\n",
    "# Square even numbers and cube odd numbers from the given list.\n",
    "nums = [1, 2, 3, 4, 5]\n",
    "sq= [x**2 if x%2==0 else x**3 for x in nums]\n",
    "sq"
   ]
  },
  {
   "cell_type": "code",
   "execution_count": 92,
   "id": "c6bc53a3-dbb8-4ad3-8ea4-9b5b4b9673d2",
   "metadata": {},
   "outputs": [
    {
     "data": {
      "text/plain": [
       "[1, 2, 3, 4, 9]"
      ]
     },
     "execution_count": 92,
     "metadata": {},
     "output_type": "execute_result"
    }
   ],
   "source": [
    "# Problem:\n",
    "# Given a list of strings, extract digits from each string and return as list of integers.\n",
    "data = ['ab1', 'c2d', '34x', 'z9']\n",
    "digits = [int(x) for words in data for x in words if x.isdigit()]\n",
    "digits"
   ]
  },
  {
   "cell_type": "code",
   "execution_count": 93,
   "id": "eb5ae7a4-2efe-4ab5-bb3e-0575bae6b544",
   "metadata": {},
   "outputs": [
    {
     "data": {
      "text/plain": [
       "[[1, 4], [2, 5], [3, 6]]"
      ]
     },
     "execution_count": 93,
     "metadata": {},
     "output_type": "execute_result"
    }
   ],
   "source": [
    "# Problem:\n",
    "# Given a 2D matrix, transpose it using list comprehension.\n",
    "matrix = [[1, 2, 3],\n",
    "          [4, 5, 6]]\n",
    "transpose= [[matrix[0][i],matrix[1][i]] for i in range (0,len(matrix[0]))]\n",
    "transpose"
   ]
  },
  {
   "cell_type": "code",
   "execution_count": 94,
   "id": "b2cfb28b-aae2-4b5d-9865-e4c3637769c0",
   "metadata": {},
   "outputs": [
    {
     "data": {
      "text/plain": [
       "[[1, 4], [2, 5], [3, 6]]"
      ]
     },
     "execution_count": 94,
     "metadata": {},
     "output_type": "execute_result"
    }
   ],
   "source": [
    "transpose = [[row[i] for row in matrix] for i in range(len(matrix[0]))]\n",
    "transpose"
   ]
  },
  {
   "cell_type": "code",
   "execution_count": 95,
   "id": "7867def3-cf24-4237-ae9f-98eff32ebf86",
   "metadata": {},
   "outputs": [
    {
     "data": {
      "text/plain": [
       "['llh', 'dlrw', 'nhtyp']"
      ]
     },
     "execution_count": 95,
     "metadata": {},
     "output_type": "execute_result"
    }
   ],
   "source": [
    "# Problem:\n",
    "# Given a list of words, remove vowels from each word and reverse the word.\n",
    "\n",
    "words = ['hello', 'world', 'python']\n",
    "vowels=[\"a\",\"e\",\"i\",\"o\",\"u\"]\n",
    "ch=[''.join([ch for ch in word if ch.lower() not in vowels])[::-1] for word in words]\n",
    "ch"
   ]
  },
  {
   "cell_type": "code",
   "execution_count": 96,
   "id": "02a38741-5e48-4264-a2b4-35ae522743ed",
   "metadata": {},
   "outputs": [
    {
     "data": {
      "text/plain": [
       "[[7, 4, 1], [8, 5, 2], [9, 6, 3]]"
      ]
     },
     "execution_count": 96,
     "metadata": {},
     "output_type": "execute_result"
    }
   ],
   "source": [
    "# Given a 2D matrix, rotate it 90 degrees clockwise using list comprehension.\n",
    "\n",
    "matrix = [[1, 2, 3],\n",
    "          [4, 5, 6],\n",
    "          [7, 8, 9]]\n",
    "rotate = [([row[i] for row in matrix])[::-1] for i in range(len(matrix[0]))]\n",
    "rotate"
   ]
  },
  {
   "cell_type": "code",
   "execution_count": 97,
   "id": "3565044f-8642-44be-bd0c-3a60d96f9b2f",
   "metadata": {},
   "outputs": [
    {
     "data": {
      "text/plain": [
       "['oe', 'o', 'o', 'uoiea']"
      ]
     },
     "execution_count": 97,
     "metadata": {},
     "output_type": "execute_result"
    }
   ],
   "source": [
    "# # From a list of words, remove all consonants and reverse the remaining characters.\n",
    "\n",
    "words = ['hello', 'world', 'python', 'aeiou']\n",
    "vowels=[\"a\",\"e\",\"i\",\"o\",\"u\"]\n",
    "consonants = [''.join([ch for ch in word if ch.lower() in vowels])[::-1] for word in words]\n",
    "consonants\n",
    "# Output: ['oe', 'o', 'o', 'uoiea']"
   ]
  },
  {
   "cell_type": "code",
   "execution_count": 98,
   "id": "70d42569-b4d2-4650-8b29-627de7ff8149",
   "metadata": {},
   "outputs": [
    {
     "data": {
      "text/plain": [
       "[1, 5, 9]"
      ]
     },
     "execution_count": 98,
     "metadata": {},
     "output_type": "execute_result"
    }
   ],
   "source": [
    "# Given a square matrix, extract the diagonal elements using list comprehension.\n",
    "\n",
    "matrix = [[1, 2, 3],\n",
    "          [4, 5, 6],\n",
    "          [7, 8, 9]]\n",
    "\n",
    "diagonal = [matrix[i][i] for i in range(len(matrix[0]))]\n",
    "diagonal"
   ]
  },
  {
   "cell_type": "code",
   "execution_count": 99,
   "id": "d4b2f271-71f9-4aea-80f1-66370d983e60",
   "metadata": {},
   "outputs": [
    {
     "data": {
      "text/plain": [
       "['cba', 'fed', 'ihg']"
      ]
     },
     "execution_count": 99,
     "metadata": {},
     "output_type": "execute_result"
    }
   ],
   "source": [
    "# Given a list of strings, remove all digits from each string and reverse the result.\n",
    "\n",
    "data = ['abc123', '4def5', 'ghi6']\n",
    "# Output: ['cba', 'fed', 'ihg']\n",
    "reverse = [''.join([ch for ch in word if ch.isalpha()])[::-1] for word in data]\n",
    "reverse"
   ]
  },
  {
   "cell_type": "markdown",
   "id": "bf155a67-df93-444e-8e05-784f29ad2e9a",
   "metadata": {},
   "source": [
    "#### CONDITIONAL STATEMENTS\n",
    "> Conditional statements allow you to make decisions in your code. Based on conditions (True/False), different blocks of code will execute.\n"
   ]
  },
  {
   "cell_type": "raw",
   "id": "b5a25411-5f44-404a-b12e-ada8fbfd1201",
   "metadata": {},
   "source": [
    "# if and else:\n",
    "if True :\n",
    "    code block executes\n",
    "else:\n",
    "    else block executes"
   ]
  },
  {
   "cell_type": "raw",
   "id": "00e99e83-afd3-4b98-8c4e-cecd61378f1b",
   "metadata": {},
   "source": [
    "# if elif and else:\n",
    "if True:\n",
    "    code block executes\n",
    "elif:\n",
    "    if not true elif code block is checked\n",
    "else:\n",
    "    if everything becomes false else block runs\n"
   ]
  },
  {
   "cell_type": "markdown",
   "id": "944f792c-5c29-49a6-a6c8-17ea0a85a02f",
   "metadata": {},
   "source": [
    "#### CONTROL STATEMENTS\n",
    "> Control statements help you change the flow of execution in loops or code blocks.\n",
    "> They are mostly used inside loops (for, while) and conditionals."
   ]
  },
  {
   "cell_type": "code",
   "execution_count": 100,
   "id": "c2ecc369-1198-486c-9205-9d05d0cf197c",
   "metadata": {},
   "outputs": [
    {
     "name": "stdout",
     "output_type": "stream",
     "text": [
      "1\n",
      "2\n"
     ]
    }
   ],
   "source": [
    "# 1. BREAK \n",
    "# Used to exit a loop early when a condition is met.\n",
    "for i in range(1, 6):\n",
    "    if i == 3:\n",
    "        break\n",
    "    print(i)"
   ]
  },
  {
   "cell_type": "code",
   "execution_count": 101,
   "id": "5c5e7854-ec8c-4f9d-8c9a-d9f4267ecffa",
   "metadata": {},
   "outputs": [
    {
     "name": "stdout",
     "output_type": "stream",
     "text": [
      "1\n",
      "2\n",
      "4\n",
      "5\n"
     ]
    }
   ],
   "source": [
    "# 2. CONTINUE\n",
    "# Skips the current iteration and continues with the next one.\n",
    "for i in range(1, 6):\n",
    "    if i == 3:\n",
    "        continue\n",
    "    print(i)"
   ]
  },
  {
   "cell_type": "code",
   "execution_count": 102,
   "id": "1f1ab141-6ef2-4ad3-9a65-6b1808fc2bc4",
   "metadata": {},
   "outputs": [
    {
     "name": "stdout",
     "output_type": "stream",
     "text": [
      "0\n",
      "1\n",
      "2\n"
     ]
    }
   ],
   "source": [
    "# 3. PASS\n",
    "# Used as a placeholder. It does nothing, but prevents syntax errors.\n",
    "for i in range(3):\n",
    "    if i == 1:\n",
    "        pass\n",
    "    print(i)"
   ]
  },
  {
   "cell_type": "code",
   "execution_count": 103,
   "id": "c9d502db-6a80-487e-9c8c-b5640603c355",
   "metadata": {},
   "outputs": [
    {
     "name": "stdout",
     "output_type": "stream",
     "text": [
      "0\n",
      "1\n",
      "2\n"
     ]
    }
   ],
   "source": [
    "# 4. ELSE WITH LOOPS\n",
    "# You can attach an else to a loop. It runs only if the loop doesn't break.\n",
    "for i in range(5):\n",
    "    if i > 2:\n",
    "        break\n",
    "    print(i)\n",
    "else:\n",
    "    print(\"Loop finished without break\")"
   ]
  },
  {
   "cell_type": "code",
   "execution_count": 104,
   "id": "f02f28ef-1869-4de6-839b-e2e5d2fe3d1a",
   "metadata": {},
   "outputs": [
    {
     "name": "stdout",
     "output_type": "stream",
     "text": [
      "1\n",
      "3\n",
      "5\n"
     ]
    }
   ],
   "source": [
    "for i in range(1, 6):\n",
    "    if i % 2 == 0:\n",
    "        continue\n",
    "    print(i)"
   ]
  },
  {
   "cell_type": "markdown",
   "id": "09dbfe7c-2f46-4e5c-9af2-4519dccaad6c",
   "metadata": {},
   "source": [
    "#### TUPLES\n",
    "1. immutable that is we cant change an element\n",
    "2.  all data types can be entered\n",
    "3. braces\n",
    "4. ordered\n",
    "5.  count and index can be used\n",
    "6. tuple is faster than list in readonly\n",
    "7. list is dynamic that is can be changed\n"
   ]
  },
  {
   "cell_type": "code",
   "execution_count": 105,
   "id": "2f031aff-11e3-4b65-9b55-b864591516d5",
   "metadata": {},
   "outputs": [
    {
     "name": "stdout",
     "output_type": "stream",
     "text": [
      "('ubergo', 'chennai', 3.14, (2+1j), 450, None, True)\n"
     ]
    }
   ],
   "source": [
    "trip = (\"ubergo\" ,\"chennai\" ,3.14 , 2+1j , 450 , None , True)\n",
    "print(trip)"
   ]
  },
  {
   "cell_type": "code",
   "execution_count": 106,
   "id": "023942c2-4e78-4303-96e1-7c285ebefd5a",
   "metadata": {},
   "outputs": [
    {
     "data": {
      "text/plain": [
       "('Alice', 25, 'Doctor')"
      ]
     },
     "execution_count": 106,
     "metadata": {},
     "output_type": "execute_result"
    }
   ],
   "source": [
    "# packing \n",
    "person = (\"Alice\", 25, \"Doctor\")\n",
    "person"
   ]
  },
  {
   "cell_type": "code",
   "execution_count": 107,
   "id": "c3b3ecd1-5981-443e-ae55-3e9d241d1d95",
   "metadata": {},
   "outputs": [
    {
     "data": {
      "text/plain": [
       "'Alice'"
      ]
     },
     "execution_count": 107,
     "metadata": {},
     "output_type": "execute_result"
    }
   ],
   "source": [
    "# unpacking\n",
    "name , age , job = person\n",
    "name"
   ]
  },
  {
   "cell_type": "code",
   "execution_count": 108,
   "id": "c6e6941d-c6d6-45a7-b7d4-2e1ae11932ad",
   "metadata": {},
   "outputs": [],
   "source": [
    "# 'tuple' object does not support item assignment\n",
    "# t[0] = 100   #  Error"
   ]
  },
  {
   "cell_type": "markdown",
   "id": "bdbdaabc-f03c-4c7e-bc77-346db10e962f",
   "metadata": {},
   "source": [
    "#### SET \n",
    "1. unodered /n\n",
    "2. union (|) , intersection (&) , difference(-)\n",
    "3. set.update([multiple values])\n",
    "4. set. clear()\n",
    "5. set.remove()\n",
    "6. set. add()\n",
    "7. We cant change a particular value we have to remove and add a new value eg, {1,2,3} , set.remove(2) , set.add(5)\n",
    "8. set.discard() this does not show error even if the value is not present\n",
    "9. cant access by index\n",
    "10.set stores values based on hash and not order of insertion and hence they are unordered"
   ]
  },
  {
   "cell_type": "code",
   "execution_count": 109,
   "id": "dd9b6e3c-ecd4-4157-bf05-fe0ab677b0ec",
   "metadata": {},
   "outputs": [
    {
     "name": "stdout",
     "output_type": "stream",
     "text": [
      "{'Banglore', 'Delhi', 'Chennai'}\n"
     ]
    }
   ],
   "source": [
    "uber = {\"Chennai\" ,\"Banglore\" ,\"Chennai\" ,\"Delhi\", \"Banglore\"}\n",
    "uber2 ={\"Coimbatore\" ,\"Banglore\" ,\"Madurai\" ,\"Karur\" ,\"Trichy\"}\n",
    "unique = set(uber) # REMOVING DUPLICATES for list\n",
    "print(unique) "
   ]
  },
  {
   "cell_type": "code",
   "execution_count": 110,
   "id": "95a92c37-b018-4800-970b-8063cd1c5b24",
   "metadata": {},
   "outputs": [
    {
     "name": "stdout",
     "output_type": "stream",
     "text": [
      "{'Banglore', 'Delhi', 'Chennai', 'Coimbatore', 'Karur', 'Trichy', 'Madurai'}\n"
     ]
    }
   ],
   "source": [
    "print(uber|uber2) # or uber.union(uber2)"
   ]
  },
  {
   "cell_type": "code",
   "execution_count": 111,
   "id": "01f1d85b-6b5d-4f99-b776-881d174e8ac8",
   "metadata": {},
   "outputs": [
    {
     "name": "stdout",
     "output_type": "stream",
     "text": [
      "{'Banglore'}\n"
     ]
    }
   ],
   "source": [
    "print(uber&uber2) # common items or uber.intersection(uber2)\n"
   ]
  },
  {
   "cell_type": "code",
   "execution_count": 112,
   "id": "1e106b62-8560-4066-999e-96fd6467cc2b",
   "metadata": {},
   "outputs": [
    {
     "name": "stdout",
     "output_type": "stream",
     "text": [
      "{'Delhi', 'Chennai'}\n"
     ]
    }
   ],
   "source": [
    "print(uber-uber2) # prints difference in set 1 "
   ]
  },
  {
   "cell_type": "code",
   "execution_count": 113,
   "id": "8129c76c-8304-441c-bb89-085b5d2d8588",
   "metadata": {},
   "outputs": [
    {
     "name": "stdout",
     "output_type": "stream",
     "text": [
      "{'Coimbatore', 'Karur', 'Madurai', 'Trichy'}\n"
     ]
    }
   ],
   "source": [
    "print(uber2-uber)"
   ]
  },
  {
   "cell_type": "code",
   "execution_count": 114,
   "id": "bcb2fe06-6bcb-42d7-8520-c2f2d17bd48e",
   "metadata": {},
   "outputs": [
    {
     "name": "stdout",
     "output_type": "stream",
     "text": [
      "{'Banglore', 'Delhi', 'Chennai', 'Thanjavur', 'neyveli'}\n"
     ]
    }
   ],
   "source": [
    "uber.update([\"neyveli\" ,\"Thanjavur\"])\n",
    "print(uber)"
   ]
  },
  {
   "cell_type": "markdown",
   "id": "0c3af513-f353-462f-b82b-4544df2cc166",
   "metadata": {},
   "source": [
    "#### DICTIONARY\n",
    "\n",
    "1. KEY VALUE PAIRS\n",
    "2. unordered\n",
    "3. mutable\n",
    "4. cant access by index\n",
    "5. Unorderd becaus eit stores values and uses hasj=h function to map keys and not ordre of insertion\n",
    "6. this allows fast lookup , insertions and deletions\n",
    "7. Both sets and dictionaries are faster as set mebership checking and dictionary based on key search\n",
    "8. Tuples are faster than list because immutable\n"
   ]
  },
  {
   "cell_type": "markdown",
   "id": "215df853-058a-4761-b067-88935d9098a1",
   "metadata": {},
   "source": [
    "#### IMPORTANT NOTE !\n",
    "\n",
    "1. Hashable(immutable) and Unhashable (mutable)\n",
    "2. sets are mutable therefore not hashable\n",
    "3. elements in the set must be hashable include numbers , string , tuples where the original is not changed and a new object is created and stored by hash values\n",
    "4. unhashable objects include sets , dictionaries and list\n"
   ]
  },
  {
   "cell_type": "markdown",
   "id": "e33275f0-417e-452f-955a-239f6d1b2090",
   "metadata": {},
   "source": [
    "#### FAST COMPARISON\n",
    "\n",
    "#### Fastest (for access & operations)\n",
    "\n",
    "| Data Type | Speed        | Reason                                           |\n",
    "| --------- | ------------ | -------------------------------------------------|\n",
    "| `int`     | Very Fast | Fixed size, immutable, directly stored in memory. |\n",
    "| `float`   | Very Fast | Similar to int, stored directly in memory.        |\n",
    "| `bool`    | Very Fast | Subclass of `int`, uses 0 or 1 internally.        |\n",
    "| `None`    | Very Fast | Singleton object, comparisons and usage are fast. |\n",
    "\n",
    "#### Fast (with minor overheads)\n",
    "\n",
    "| Data Type | Speed   | Reason                                                                                    |\n",
    "| --------- | ------- | ----------------------------------------------------------------------------------------- |\n",
    "| `tuple`   | Fast | Immutable, fixed-size, faster than list for iteration.                                    |\n",
    "| `string`  | Fast | Immutable, stored as sequence of characters, fast for access but slower for modification. |\n",
    "| `complex` | Fast | Slightly more overhead than float due to real+imag part.                                  |\n",
    "\n",
    "#### Slower (due to flexibility and mutability)\n",
    "\n",
    "| Data Type | Speed       | Reason                                                                           |\n",
    "| --------- | ----------- | -------------------------------------------------------------------------------- |\n",
    "| `list`    |  Moderate | Mutable, dynamic resizing, slower than tuples.                                   |\n",
    "| `set`     |  Moderate | Fast membership test, but unordered and uses hash.                               |\n",
    "| `dict`    |  Moderate | Fast for lookup, but higher memory and CPU due to hashing and key-value mapping. |\n",
    "\n",
    "####  Typical Speed Ranking (Access/Lookup):\n",
    "> int ≈ float ≈ bool > None > tuple > string > complex > list > set > dict\n",
    "\n",
    "#### Summary:\n",
    "\n",
    "1.  For computation: int, float, bool are fastest.\n",
    "\n",
    "2.  For iteration: tuple is faster than list.\n",
    "\n",
    "3.  For membership tests: set and dict are faster than list, but with more overhead.\n",
    "\n",
    "4. For modification: list, dict, and set are more flexible but slower.\n",
    "\n",
    "5. None is very light, but used for null-like values."
   ]
  },
  {
   "cell_type": "code",
   "execution_count": 115,
   "id": "c77a606b-a79b-4390-bd06-2ee9c3556ed5",
   "metadata": {},
   "outputs": [
    {
     "name": "stdout",
     "output_type": "stream",
     "text": [
      "Sharmila\n",
      "None\n"
     ]
    }
   ],
   "source": [
    "# dict.get (key) no error will come\n",
    "# dict[key] if no key error\n",
    "trip ={\"Name\" :\"Sharmila\" , \"Age\" : 21 ,\"drop\" :[\"Airport\",\"Surapet\",\"tidel\"] ,\"driver\" :\"driver 1\"}\n",
    "print(trip[\"Name\"])\n",
    "print(trip.get(\"SHaru\")) # will not give error"
   ]
  },
  {
   "cell_type": "code",
   "execution_count": 116,
   "id": "7c29af45-4a0f-469f-8229-c724f817c8fb",
   "metadata": {},
   "outputs": [
    {
     "name": "stdout",
     "output_type": "stream",
     "text": [
      "dict_keys(['Name', 'Age', 'drop', 'driver'])\n",
      "dict_values(['Sharmila', 21, ['Airport', 'Surapet', 'tidel'], 'driver 1'])\n"
     ]
    }
   ],
   "source": [
    "print(trip.keys()) # key an d value extraction\n",
    "print(trip.values())"
   ]
  },
  {
   "cell_type": "code",
   "execution_count": 117,
   "id": "c479c3ab-1c43-4eb9-979c-60e34a1317e7",
   "metadata": {},
   "outputs": [
    {
     "name": "stdout",
     "output_type": "stream",
     "text": [
      "Name :Sharmila\n",
      "Age :21\n",
      "drop :['Airport', 'Surapet', 'tidel']\n",
      "driver :driver 1\n"
     ]
    }
   ],
   "source": [
    "for key , values in  trip.items():\n",
    "    print(f\"{key} :{values}\")"
   ]
  },
  {
   "cell_type": "code",
   "execution_count": 118,
   "id": "d24da551-752e-4de9-8b31-f523ed753aa4",
   "metadata": {},
   "outputs": [
    {
     "name": "stdout",
     "output_type": "stream",
     "text": [
      "{'Name': 'Sharmila', 'Age': 21, 'drop': ['Airport', 'Surapet', 'tidel'], 'driver': 'driver 1', 'car model': 'suzuki'}\n"
     ]
    }
   ],
   "source": [
    "trip.update({\"car model\":\"suzuki\"}) # absurd (if there is key update or it will insert a new key)\n",
    "print(trip)"
   ]
  },
  {
   "cell_type": "code",
   "execution_count": 119,
   "id": "58bb61b1-87a4-4d36-a584-376bc768aab5",
   "metadata": {},
   "outputs": [
    {
     "name": "stdout",
     "output_type": "stream",
     "text": [
      "tidel\n"
     ]
    }
   ],
   "source": [
    "# if duplicates are present it will tak ethe lastest duplicate and no error will come\n",
    "print(trip[\"drop\"][2])"
   ]
  },
  {
   "cell_type": "code",
   "execution_count": 120,
   "id": "a60d33d2-f940-419c-bdf1-ee0e7c252cd6",
   "metadata": {},
   "outputs": [
    {
     "name": "stdout",
     "output_type": "stream",
     "text": [
      "Airport\n",
      "Surapet\n",
      "tidel\n"
     ]
    }
   ],
   "source": [
    "for i in trip[\"drop\"]:\n",
    "    print(i)"
   ]
  },
  {
   "cell_type": "code",
   "execution_count": 121,
   "id": "e7ae38f4-3c06-4939-bc3e-eae79da27bc3",
   "metadata": {},
   "outputs": [
    {
     "name": "stdout",
     "output_type": "stream",
     "text": [
      "Sam Surapet\n",
      " Milan Kolathur\n",
      "Dala Kodambakkam\n"
     ]
    }
   ],
   "source": [
    "# can create a multiple dictionaries\n",
    "trips = [{\"Name\":\"Sam\" , \"pickup\":\"Surapet\" ,\"time\":3.45 ,\"drop\":\"Tambaram\" ,\"driver\":\"driver1\" ,\"car model\" :\"suzuki\"},\n",
    "         {\"Name\":\" Milan\" , \"pickup\":\"Kolathur\" ,\"time\":4.45 ,\"drop\":\"Tharamani\" ,\"driver\":\"driver2\" ,\"car model\" :\"swift\"},\n",
    "         {\"Name\":\"Dala\" , \"pickup\":\"Kodambakkam\" ,\"time\":5.45 ,\"drop\":\"vadapalani\" ,\"driver\":\"driver3\" ,\"car model\" :\"ertiga\"},\n",
    "        ]\n",
    "for trip in trips:\n",
    "    print(trip[\"Name\"], trip[\"pickup\"])"
   ]
  },
  {
   "cell_type": "code",
   "execution_count": 122,
   "id": "249a59df-864f-4d9c-9f7c-65ce7857ba62",
   "metadata": {},
   "outputs": [],
   "source": [
    "trips = {\"UB001\": {\"Name\":\"Sam\" , \"pickup\":\"Surapet\" ,\"time\":3.45 ,\"drop\":\"Tambaram\" ,\"driver\":\"driver1\" ,\"car model\" :\"suzuki\"},\n",
    "         \"UB002\": {\"Name\":\" Milan\" , \"pickup\":\"Kolathur\" ,\"time\":4.45 ,\"drop\":\"Tharamani\" ,\"driver\":\"driver2\" ,\"car model\" :\"swift\"},\n",
    "         \"UB003\": {\"Name\":\"Dala\" , \"pickup\":\"Kodambakkam\" ,\"time\":5.45 ,\"drop\":\"vadapalani\" ,\"driver\":\"driver3\" ,\"car model\" :\"ertiga\"},\n",
    "        }"
   ]
  },
  {
   "cell_type": "code",
   "execution_count": 123,
   "id": "4417a9ae-8f72-4012-b15c-48bf2ff01340",
   "metadata": {},
   "outputs": [
    {
     "name": "stdout",
     "output_type": "stream",
     "text": [
      "DROP 1 Tambaram\n"
     ]
    }
   ],
   "source": [
    "print(\"DROP 1\" ,trips[\"UB001\"][\"drop\"])"
   ]
  },
  {
   "cell_type": "code",
   "execution_count": 124,
   "id": "38db87dd-d773-46a5-afd2-d6b615dfa4f9",
   "metadata": {},
   "outputs": [
    {
     "name": "stdout",
     "output_type": "stream",
     "text": [
      "UB001\n",
      "Surapet --> Tambaram\n",
      "UB002\n",
      "Kolathur --> Tharamani\n",
      "UB003\n",
      "Kodambakkam --> vadapalani\n"
     ]
    }
   ],
   "source": [
    "for trip_id , details in trips.items():\n",
    "    print(trip_id)\n",
    "    print(details[\"pickup\"],\"-->\",details[\"drop\"])\n"
   ]
  },
  {
   "cell_type": "markdown",
   "id": "d3934424-d314-4e68-a84c-d028ab91977d",
   "metadata": {},
   "source": [
    "#### FILE HANDLING\n",
    "1. Open the file\n",
    "\n",
    "2. Read or write\n",
    "\n",
    "3. Close the file\n",
    "\n",
    "4. syntax:\n",
    "\n",
    "   > f = open(\"filename.txt\", \"mode\")\n",
    "\n",
    "\n",
    "1. 'r'---Read (default) – error if file doesn't exist\n",
    "2. 'w'---Write – creates new file or overwrites\n",
    "3. 'a'---Append – adds to the end of the file\n",
    "4. 'x'---Create – creates a new file, error if exists\n",
    "5. 'b'---Binary mode (add with 'rb', 'wb')\n",
    "6. 't'---Text mode (default, 'rt', 'wt')"
   ]
  },
  {
   "cell_type": "markdown",
   "id": "bad0d0c7-262c-4d4e-98d4-3fd9468182aa",
   "metadata": {},
   "source": [
    "#### OPEN A FILE"
   ]
  },
  {
   "cell_type": "code",
   "execution_count": 125,
   "id": "9675668d-7a4c-4798-9e5d-97ad5e3c5680",
   "metadata": {},
   "outputs": [],
   "source": [
    "file = open(\"prac.txt\",\"w\")\n",
    "file.write(\"Welcome to string\\n\")\n",
    "file.write(\"Hiii\")\n",
    "file.close()"
   ]
  },
  {
   "cell_type": "markdown",
   "id": "794bb5fd-34c4-426a-ab24-9cfb984b933b",
   "metadata": {},
   "source": [
    "#### READ A FILE"
   ]
  },
  {
   "cell_type": "code",
   "execution_count": 126,
   "id": "c2c18dac-04c7-499c-8d13-c79baf7eeff1",
   "metadata": {},
   "outputs": [
    {
     "name": "stdout",
     "output_type": "stream",
     "text": [
      "file content:\n",
      " Welcome to string\n",
      "Hiii\n"
     ]
    }
   ],
   "source": [
    "file = open(\"prac.txt\",\"r\")\n",
    "content = file.read()\n",
    "print(\"file content:\\n\",content)\n",
    "file.close()"
   ]
  },
  {
   "cell_type": "markdown",
   "id": "57fa2ec2-2a8e-4d8e-82cb-398b3c66a63b",
   "metadata": {},
   "source": [
    "1. read()\tReads entire file as a string\n",
    "2. readline()\tReads one line at a time\n",
    "3. readlines()\tReturns all lines as a list"
   ]
  },
  {
   "cell_type": "code",
   "execution_count": 127,
   "id": "14b09595-121e-46cc-a764-5f4dbc99aa7b",
   "metadata": {},
   "outputs": [
    {
     "name": "stdout",
     "output_type": "stream",
     "text": [
      "Welcome to string\n",
      "\n"
     ]
    }
   ],
   "source": [
    "file = open(\"prac.txt\",'r')\n",
    "content = file.readline()\n",
    "print(content)\n",
    "file.close()"
   ]
  },
  {
   "cell_type": "code",
   "execution_count": 128,
   "id": "86a2503b-8e68-431b-b59b-bb88a0301d99",
   "metadata": {},
   "outputs": [
    {
     "name": "stdout",
     "output_type": "stream",
     "text": [
      "['Welcome to string\\n', 'Hiii']\n"
     ]
    }
   ],
   "source": [
    "file = open(\"prac.txt\",'r')\n",
    "content = file.readlines()\n",
    "print(content)\n",
    "file.close()"
   ]
  },
  {
   "cell_type": "markdown",
   "id": "ad7f3a03-98e3-4f88-8079-389f81b2702f",
   "metadata": {},
   "source": [
    "#### APPEND A FILE"
   ]
  },
  {
   "cell_type": "code",
   "execution_count": 129,
   "id": "c4c4dc33-d80f-44bc-8844-5d6fb6f4bcbb",
   "metadata": {},
   "outputs": [],
   "source": [
    "file = open(\"prac.txt\",\"a\")\n",
    "file.write (\"\\n adding a new line \")\n",
    "file.close()"
   ]
  },
  {
   "cell_type": "markdown",
   "id": "58bfd668-82de-45bd-8849-b956f48afde5",
   "metadata": {},
   "source": [
    "#### WITH STATEMENT\n",
    "1. with statement is pythonic way of writing a file\n",
    "2. with statement we dont have to close the file after open we can use it many times"
   ]
  },
  {
   "cell_type": "code",
   "execution_count": 130,
   "id": "9f7af91a-aab9-4924-bc90-34f5192c8ee7",
   "metadata": {},
   "outputs": [
    {
     "name": "stdout",
     "output_type": "stream",
     "text": [
      "Welcome to string\n",
      "Hiii\n",
      "adding a new line\n"
     ]
    }
   ],
   "source": [
    "with open(\"prac.txt\",'r') as f:  \n",
    "    for line in f:\n",
    "        print(line.strip())"
   ]
  },
  {
   "cell_type": "code",
   "execution_count": 131,
   "id": "aca3f29b-3b53-496c-9399-f453951b6af9",
   "metadata": {},
   "outputs": [
    {
     "name": "stdin",
     "output_type": "stream",
     "text": [
      "Enter your feedback : hiii\n"
     ]
    },
    {
     "name": "stdout",
     "output_type": "stream",
     "text": [
      "Thanks for your feedback\n"
     ]
    }
   ],
   "source": [
    "# creating a feedback entering code\n",
    "feedback = input(\"Enter your feedback :\")\n",
    "with open(\"prac.txt\",\"a\") as log:\n",
    "    log.write(\"\\n\"+feedback + \"\\n\")\n",
    "print(\"Thanks for your feedback\")"
   ]
  },
  {
   "cell_type": "code",
   "execution_count": 132,
   "id": "d0a7b48e-19b1-4d40-a4b2-186d27e6c919",
   "metadata": {},
   "outputs": [],
   "source": [
    "with open(\"data.txt\",\"a\") as log:\n",
    "    log.write(\"Apple \\n\")\n",
    "    log.write(\"Banana \\n\")\n",
    "    log.write(\"cherry \")"
   ]
  },
  {
   "cell_type": "code",
   "execution_count": 133,
   "id": "5209329d-7fb7-4cff-8707-f3bd226c7861",
   "metadata": {},
   "outputs": [
    {
     "name": "stdout",
     "output_type": "stream",
     "text": [
      "INFO : Application started sucessfully\n",
      "INFO : user log in successful\n",
      "WARNING : Disk space low\n"
     ]
    }
   ],
   "source": [
    "with open(\"data.txt\",\"r\") as file:\n",
    "    print(file.readline().strip())\n",
    "    print(file.readline().strip())\n",
    "    print(file.readline().strip())\n",
    "    "
   ]
  },
  {
   "cell_type": "code",
   "execution_count": 134,
   "id": "c4359088-3bdd-4fb7-84b8-c9018e711f8f",
   "metadata": {},
   "outputs": [
    {
     "name": "stdout",
     "output_type": "stream",
     "text": [
      "found error: ERROR: failed to connect to database\n",
      "found error: ERROR : null pointer exception occured\n"
     ]
    }
   ],
   "source": [
    "# readline and for loop does the same for loop calls readline function\n",
    "with open(\"data.txt\",\"r\") as file:\n",
    "    while True:\n",
    "        line = file.readline()\n",
    "        if not line:\n",
    "            break\n",
    "        if \"ERROR\" in line:\n",
    "            print(\"found error:\", line.strip())"
   ]
  },
  {
   "cell_type": "code",
   "execution_count": 135,
   "id": "ec9098ec-6641-4476-8d44-dfdea8c23476",
   "metadata": {},
   "outputs": [
    {
     "name": "stdout",
     "output_type": "stream",
     "text": [
      "INFO : Application started sucessfully\n",
      "INFO : user log in successful\n",
      "WARNING : Disk space low\n",
      "ERROR: failed to connect to database\n",
      "INFO : Scheduled task\n",
      "ERROR : null pointer exception occured\n",
      "INFO : application shutdown\n",
      "whegdegwfgwekf\n",
      "wqgekqugwdiug\n",
      "qdkjegfiuqegf\n"
     ]
    }
   ],
   "source": [
    "with open(\"data.txt\",\"r\") as file:\n",
    "   for _ in range (10):  #  _ (throwback variable) , i need only 10 lines in the file\n",
    "       print(file.readline().strip())"
   ]
  },
  {
   "cell_type": "code",
   "execution_count": null,
   "id": "25efd983-2bb5-4624-9609-8429618e3b85",
   "metadata": {},
   "outputs": [],
   "source": []
  }
 ],
 "metadata": {
  "kernelspec": {
   "display_name": "Python 3 (ipykernel)",
   "language": "python",
   "name": "python3"
  },
  "language_info": {
   "codemirror_mode": {
    "name": "ipython",
    "version": 3
   },
   "file_extension": ".py",
   "mimetype": "text/x-python",
   "name": "python",
   "nbconvert_exporter": "python",
   "pygments_lexer": "ipython3",
   "version": "3.13.2"
  }
 },
 "nbformat": 4,
 "nbformat_minor": 5
}
